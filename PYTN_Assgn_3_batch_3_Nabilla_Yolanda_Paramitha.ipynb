{
 "cells": [
  {
   "attachments": {
    "logo.png": {
     "image/png": "[encoded data removed]"
    }
   },
   "cell_type": "markdown",
   "id": "9868ecaf",
   "metadata": {},
   "source": [
    "![logo.png](attachment:logo.png)"
   ]
  },
  {
   "cell_type": "markdown",
   "id": "f7073013",
   "metadata": {},
   "source": [
    "---"
   ]
  },
  {
   "cell_type": "markdown",
   "id": "9ece42fb",
   "metadata": {},
   "source": [
    "# Assigment 3\n",
    "Tugas ini menggunakan dataset yang didapat dari situs UCI. Data ini terkait dengan kampanye pemasaran langsung dari lembaga perbankan Portugis. Kampanye pemasaran didasarkan pada panggilan telepon. Seringkali, lebih dari satu kontak ke klien yang sama diperlukan, untuk mengakses apakah produk (deposito berjangka bank) akan ('ya') atau tidak ('tidak') berlangganan.\n",
    "<br>\n",
    "Ada empat kumpulan data yaitu :\n",
    "1) bank-additional-full.csv <br>\n",
    "2) bank-additional.csv <br>\n",
    "3) bank-full.csv <br>\n",
    "4) bank.csv <br>\n",
    "\n",
    "Dari keempat dataset tersebut data yang digunakan adalah data bank.csv\n",
    "<br>\n",
    "\n",
    "Kumpulan data terkecil disediakan untuk menguji algoritma pembelajaran mesin yang lebih menuntut komputasi (misalnya, SVM).\n",
    "\n",
    "Tujuan klasifikasi adalah untuk memprediksi apakah klien akan berlangganan (ya/tidak) deposito berjangka (variabel y).\n",
    "\n",
    "## Data\n",
    "**Input variables:**\n",
    "    \n",
    "**bank client data:**<br>\n",
    "1 - age (numeric)<br>\n",
    "2 - job : type of job (categorical: 'admin.','blue collar','entrepreneur','housemaid','management','retired','self employed','services','student','technician','unemployed','unknown')<br>\n",
    "3 - marital : marital status (categorical: 'divorced','married','single','unknown'; note: 'divorced' means divorced or widowed)<br>\n",
    "4 - education (categorical: 'basic.4y','basic.6y','basic.9y','high.school','illiterate','professional.course','university.degree','unknown')<br>\n",
    "5 - default: has credit in default? (categorical: 'no','yes','unknown')<br>\n",
    "6 - housing: has housing loan? (categorical: 'no','yes','unknown')<br>\n",
    "7 - loan: has personal loan? (categorical: 'no','yes','unknown')\n",
    "<br>\n",
    "**related with the last contact of the current campaign:**<br>\n",
    "8 - contact: contact communication type (categorical: 'cellular','telephone')<br>\n",
    "9 - month: last contact month of year (categorical: 'jan', 'feb', 'mar', ..., 'nov', 'dec')<br>\n",
    "10 - day_of_week: last contact day of the week (categorical: 'mon','tue','wed','thu','fri')<br>\n",
    "11 - duration: last contact duration, in seconds (numeric). Important note: this attribute highly affects the output target (e.g., if duration=0 then y='no'). Yet, the duration is not known before a call is performed. Also, after the end of the call y is obviously known. Thus, this input should only be included for benchmark purposes and should be discarded if the intention is to have a realistic predictive model.\n",
    "<br>\n",
    "**other attributes:**<br>\n",
    "12 - campaign: number of contacts performed during this campaign and for this client (numeric, includes last contact)<br>\n",
    "13 - pdays: number of days that passed by after the client was last contacted from a previous campaign (numeric; 999 means client was not previously contacted)<br>\n",
    "14 - previous: number of contacts performed before this campaign and for this client (numeric)<br>\n",
    "15 - poutcome: outcome of the previous marketing campaign (categorical: 'failure','nonexistent','success')\n",
    "<br>\n",
    "**social and economic context attributes**<br>\n",
    "16 - emp.var.rate: employment variation rate - quarterly indicator (numeric)<br>\n",
    "17 - cons.price.idx: consumer price index - monthly indicator (numeric)<br>\n",
    "18 - cons.conf.idx: consumer confidence index - monthly indicator (numeric)<br>\n",
    "19 - euribor3m: euribor 3 month rate - daily indicator (numeric)<br>\n",
    "20 - nr.employed: number of employees - quarterly indicator (numeric)\n",
    "<br>\n",
    "**Output variable (desired target):**<br>\n",
    "21 - y - has the client subscribed a term deposit? (binary: 'yes','no')"
   ]
  },
  {
   "cell_type": "markdown",
   "id": "d2fb58b0",
   "metadata": {},
   "source": [
    "## Import Library\n",
    "Import semua library yang dibutuhkan sebagai berikut:"
   ]
  },
  {
   "cell_type": "code",
   "execution_count": 1,
   "id": "4a61170c",
   "metadata": {},
   "outputs": [],
   "source": [
    "%matplotlib inline\n",
    "import math\n",
    "import statistics\n",
    "import numpy as np\n",
    "import scipy.stats\n",
    "import pandas as pd\n",
    "import statsmodels.api as sm \n",
    "\n",
    "import matplotlib.pyplot as plt\n",
    "plt.style.use('seaborn-talk')\n",
    "plt.rcParams[\"figure.figsize\"] = [16, 12]\n",
    "\n",
    "import seaborn as sns\n",
    "sns.set(style = 'white', color_codes = True)\n",
    "\n",
    "from sklearn import metrics\n",
    "from sklearn import preprocessing\n",
    "from sklearn.preprocessing import StandardScaler\n",
    "from sklearn.linear_model import LogisticRegression\n",
    "from sklearn.neighbors import KNeighborsClassifier\n",
    "from sklearn import svm\n",
    "import sklearn.tree as tree\n",
    "import pydotplus\n",
    "from six import StringIO\n",
    "from IPython.display import Image\n",
    "from sklearn.tree import DecisionTreeClassifier\n",
    "from sklearn.ensemble import RandomForestClassifier\n",
    "from sklearn.naive_bayes import GaussianNB\n",
    "from sklearn.model_selection import GridSearchCV\n",
    "from sklearn.metrics import plot_confusion_matrix\n",
    "from sklearn.metrics import classification_report\n",
    "from sklearn.model_selection import train_test_split\n",
    "from sklearn.metrics import accuracy_score, confusion_matrix, classification_report, precision_score, recall_score, f1_score\n",
    "import pickle\n",
    "from sklearn.preprocessing import LabelEncoder\n",
    "\n",
    "from sklearn.tree import plot_tree\n",
    "\n",
    "import sklearn.linear_model as linear_model\n",
    "\n",
    "# Me-non aktifkan peringatan pada python\n",
    "import warnings\n",
    "warnings.filterwarnings('ignore')\n",
    "\n",
    "# Style Text\n",
    "bold = '\\033[1m'\n",
    "normal = '\\033[0m'"
   ]
  },
  {
   "cell_type": "markdown",
   "id": "231aeb10",
   "metadata": {},
   "source": [
    "## Data Loading\n",
    "\n",
    "### Import Dataset"
   ]
  },
  {
   "cell_type": "code",
   "execution_count": 2,
   "id": "75d6dfd1",
   "metadata": {},
   "outputs": [],
   "source": [
    "# Dilakukan load dataset menggunakan pandas\n",
    "data = pd.read_csv(r\"~/datasets/bank.csv\")\n",
    "pd.set_option(\"display.max.columns\", None)"
   ]
  },
  {
   "cell_type": "code",
   "execution_count": 3,
   "id": "28525f51",
   "metadata": {},
   "outputs": [
    {
     "data": {
      "text/html": [
       "<div>\n",
       "<style scoped>\n",
       "    .dataframe tbody tr th:only-of-type {\n",
       "        vertical-align: middle;\n",
       "    }\n",
       "\n",
       "    .dataframe tbody tr th {\n",
       "        vertical-align: top;\n",
       "    }\n",
       "\n",
       "    .dataframe thead th {\n",
       "        text-align: right;\n",
       "    }\n",
       "</style>\n",
       "<table border=\"1\" class=\"dataframe\">\n",
       "  <thead>\n",
       "    <tr style=\"text-align: right;\">\n",
       "      <th></th>\n",
       "      <th>age</th>\n",
       "      <th>job</th>\n",
       "      <th>marital</th>\n",
       "      <th>education</th>\n",
       "      <th>default</th>\n",
       "      <th>balance</th>\n",
       "      <th>housing</th>\n",
       "      <th>loan</th>\n",
       "      <th>contact</th>\n",
       "      <th>day</th>\n",
       "      <th>month</th>\n",
       "      <th>duration</th>\n",
       "      <th>campaign</th>\n",
       "      <th>pdays</th>\n",
       "      <th>previous</th>\n",
       "      <th>poutcome</th>\n",
       "      <th>y</th>\n",
       "    </tr>\n",
       "  </thead>\n",
       "  <tbody>\n",
       "    <tr>\n",
       "      <th>0</th>\n",
       "      <td>30</td>\n",
       "      <td>unemployed</td>\n",
       "      <td>married</td>\n",
       "      <td>primary</td>\n",
       "      <td>no</td>\n",
       "      <td>1787</td>\n",
       "      <td>no</td>\n",
       "      <td>no</td>\n",
       "      <td>cellular</td>\n",
       "      <td>19</td>\n",
       "      <td>oct</td>\n",
       "      <td>79</td>\n",
       "      <td>1</td>\n",
       "      <td>-1</td>\n",
       "      <td>0</td>\n",
       "      <td>unknown</td>\n",
       "      <td>no</td>\n",
       "    </tr>\n",
       "    <tr>\n",
       "      <th>1</th>\n",
       "      <td>33</td>\n",
       "      <td>services</td>\n",
       "      <td>married</td>\n",
       "      <td>secondary</td>\n",
       "      <td>no</td>\n",
       "      <td>4789</td>\n",
       "      <td>yes</td>\n",
       "      <td>yes</td>\n",
       "      <td>cellular</td>\n",
       "      <td>11</td>\n",
       "      <td>may</td>\n",
       "      <td>220</td>\n",
       "      <td>1</td>\n",
       "      <td>339</td>\n",
       "      <td>4</td>\n",
       "      <td>failure</td>\n",
       "      <td>no</td>\n",
       "    </tr>\n",
       "    <tr>\n",
       "      <th>2</th>\n",
       "      <td>35</td>\n",
       "      <td>management</td>\n",
       "      <td>single</td>\n",
       "      <td>tertiary</td>\n",
       "      <td>no</td>\n",
       "      <td>1350</td>\n",
       "      <td>yes</td>\n",
       "      <td>no</td>\n",
       "      <td>cellular</td>\n",
       "      <td>16</td>\n",
       "      <td>apr</td>\n",
       "      <td>185</td>\n",
       "      <td>1</td>\n",
       "      <td>330</td>\n",
       "      <td>1</td>\n",
       "      <td>failure</td>\n",
       "      <td>no</td>\n",
       "    </tr>\n",
       "    <tr>\n",
       "      <th>3</th>\n",
       "      <td>30</td>\n",
       "      <td>management</td>\n",
       "      <td>married</td>\n",
       "      <td>tertiary</td>\n",
       "      <td>no</td>\n",
       "      <td>1476</td>\n",
       "      <td>yes</td>\n",
       "      <td>yes</td>\n",
       "      <td>unknown</td>\n",
       "      <td>3</td>\n",
       "      <td>jun</td>\n",
       "      <td>199</td>\n",
       "      <td>4</td>\n",
       "      <td>-1</td>\n",
       "      <td>0</td>\n",
       "      <td>unknown</td>\n",
       "      <td>no</td>\n",
       "    </tr>\n",
       "    <tr>\n",
       "      <th>4</th>\n",
       "      <td>59</td>\n",
       "      <td>blue-collar</td>\n",
       "      <td>married</td>\n",
       "      <td>secondary</td>\n",
       "      <td>no</td>\n",
       "      <td>0</td>\n",
       "      <td>yes</td>\n",
       "      <td>no</td>\n",
       "      <td>unknown</td>\n",
       "      <td>5</td>\n",
       "      <td>may</td>\n",
       "      <td>226</td>\n",
       "      <td>1</td>\n",
       "      <td>-1</td>\n",
       "      <td>0</td>\n",
       "      <td>unknown</td>\n",
       "      <td>no</td>\n",
       "    </tr>\n",
       "  </tbody>\n",
       "</table>\n",
       "</div>"
      ],
      "text/plain": [
       "   age          job  marital  education default  balance housing loan  \\\n",
       "0   30   unemployed  married    primary      no     1787      no   no   \n",
       "1   33     services  married  secondary      no     4789     yes  yes   \n",
       "2   35   management   single   tertiary      no     1350     yes   no   \n",
       "3   30   management  married   tertiary      no     1476     yes  yes   \n",
       "4   59  blue-collar  married  secondary      no        0     yes   no   \n",
       "\n",
       "    contact  day month  duration  campaign  pdays  previous poutcome   y  \n",
       "0  cellular   19   oct        79         1     -1         0  unknown  no  \n",
       "1  cellular   11   may       220         1    339         4  failure  no  \n",
       "2  cellular   16   apr       185         1    330         1  failure  no  \n",
       "3   unknown    3   jun       199         4     -1         0  unknown  no  \n",
       "4   unknown    5   may       226         1     -1         0  unknown  no  "
      ]
     },
     "execution_count": 3,
     "metadata": {},
     "output_type": "execute_result"
    }
   ],
   "source": [
    "# Melihat data teratas\n",
    "data.head()"
   ]
  },
  {
   "cell_type": "code",
   "execution_count": 4,
   "id": "a1224420",
   "metadata": {},
   "outputs": [
    {
     "data": {
      "text/html": [
       "<div>\n",
       "<style scoped>\n",
       "    .dataframe tbody tr th:only-of-type {\n",
       "        vertical-align: middle;\n",
       "    }\n",
       "\n",
       "    .dataframe tbody tr th {\n",
       "        vertical-align: top;\n",
       "    }\n",
       "\n",
       "    .dataframe thead th {\n",
       "        text-align: right;\n",
       "    }\n",
       "</style>\n",
       "<table border=\"1\" class=\"dataframe\">\n",
       "  <thead>\n",
       "    <tr style=\"text-align: right;\">\n",
       "      <th></th>\n",
       "      <th>age</th>\n",
       "      <th>job</th>\n",
       "      <th>marital</th>\n",
       "      <th>education</th>\n",
       "      <th>default</th>\n",
       "      <th>balance</th>\n",
       "      <th>housing</th>\n",
       "      <th>loan</th>\n",
       "      <th>contact</th>\n",
       "      <th>day</th>\n",
       "      <th>month</th>\n",
       "      <th>duration</th>\n",
       "      <th>campaign</th>\n",
       "      <th>pdays</th>\n",
       "      <th>previous</th>\n",
       "      <th>poutcome</th>\n",
       "      <th>y</th>\n",
       "    </tr>\n",
       "  </thead>\n",
       "  <tbody>\n",
       "    <tr>\n",
       "      <th>4516</th>\n",
       "      <td>33</td>\n",
       "      <td>services</td>\n",
       "      <td>married</td>\n",
       "      <td>secondary</td>\n",
       "      <td>no</td>\n",
       "      <td>-333</td>\n",
       "      <td>yes</td>\n",
       "      <td>no</td>\n",
       "      <td>cellular</td>\n",
       "      <td>30</td>\n",
       "      <td>jul</td>\n",
       "      <td>329</td>\n",
       "      <td>5</td>\n",
       "      <td>-1</td>\n",
       "      <td>0</td>\n",
       "      <td>unknown</td>\n",
       "      <td>no</td>\n",
       "    </tr>\n",
       "    <tr>\n",
       "      <th>4517</th>\n",
       "      <td>57</td>\n",
       "      <td>self-employed</td>\n",
       "      <td>married</td>\n",
       "      <td>tertiary</td>\n",
       "      <td>yes</td>\n",
       "      <td>-3313</td>\n",
       "      <td>yes</td>\n",
       "      <td>yes</td>\n",
       "      <td>unknown</td>\n",
       "      <td>9</td>\n",
       "      <td>may</td>\n",
       "      <td>153</td>\n",
       "      <td>1</td>\n",
       "      <td>-1</td>\n",
       "      <td>0</td>\n",
       "      <td>unknown</td>\n",
       "      <td>no</td>\n",
       "    </tr>\n",
       "    <tr>\n",
       "      <th>4518</th>\n",
       "      <td>57</td>\n",
       "      <td>technician</td>\n",
       "      <td>married</td>\n",
       "      <td>secondary</td>\n",
       "      <td>no</td>\n",
       "      <td>295</td>\n",
       "      <td>no</td>\n",
       "      <td>no</td>\n",
       "      <td>cellular</td>\n",
       "      <td>19</td>\n",
       "      <td>aug</td>\n",
       "      <td>151</td>\n",
       "      <td>11</td>\n",
       "      <td>-1</td>\n",
       "      <td>0</td>\n",
       "      <td>unknown</td>\n",
       "      <td>no</td>\n",
       "    </tr>\n",
       "    <tr>\n",
       "      <th>4519</th>\n",
       "      <td>28</td>\n",
       "      <td>blue-collar</td>\n",
       "      <td>married</td>\n",
       "      <td>secondary</td>\n",
       "      <td>no</td>\n",
       "      <td>1137</td>\n",
       "      <td>no</td>\n",
       "      <td>no</td>\n",
       "      <td>cellular</td>\n",
       "      <td>6</td>\n",
       "      <td>feb</td>\n",
       "      <td>129</td>\n",
       "      <td>4</td>\n",
       "      <td>211</td>\n",
       "      <td>3</td>\n",
       "      <td>other</td>\n",
       "      <td>no</td>\n",
       "    </tr>\n",
       "    <tr>\n",
       "      <th>4520</th>\n",
       "      <td>44</td>\n",
       "      <td>entrepreneur</td>\n",
       "      <td>single</td>\n",
       "      <td>tertiary</td>\n",
       "      <td>no</td>\n",
       "      <td>1136</td>\n",
       "      <td>yes</td>\n",
       "      <td>yes</td>\n",
       "      <td>cellular</td>\n",
       "      <td>3</td>\n",
       "      <td>apr</td>\n",
       "      <td>345</td>\n",
       "      <td>2</td>\n",
       "      <td>249</td>\n",
       "      <td>7</td>\n",
       "      <td>other</td>\n",
       "      <td>no</td>\n",
       "    </tr>\n",
       "  </tbody>\n",
       "</table>\n",
       "</div>"
      ],
      "text/plain": [
       "      age            job  marital  education default  balance housing loan  \\\n",
       "4516   33       services  married  secondary      no     -333     yes   no   \n",
       "4517   57  self-employed  married   tertiary     yes    -3313     yes  yes   \n",
       "4518   57     technician  married  secondary      no      295      no   no   \n",
       "4519   28    blue-collar  married  secondary      no     1137      no   no   \n",
       "4520   44   entrepreneur   single   tertiary      no     1136     yes  yes   \n",
       "\n",
       "       contact  day month  duration  campaign  pdays  previous poutcome   y  \n",
       "4516  cellular   30   jul       329         5     -1         0  unknown  no  \n",
       "4517   unknown    9   may       153         1     -1         0  unknown  no  \n",
       "4518  cellular   19   aug       151        11     -1         0  unknown  no  \n",
       "4519  cellular    6   feb       129         4    211         3    other  no  \n",
       "4520  cellular    3   apr       345         2    249         7    other  no  "
      ]
     },
     "execution_count": 4,
     "metadata": {},
     "output_type": "execute_result"
    }
   ],
   "source": [
    "# Akan dilihat 5 baris terbawah dari dataset menggunakan fungsi tail()\n",
    "data.tail()"
   ]
  },
  {
   "cell_type": "markdown",
   "id": "66f02b1d",
   "metadata": {},
   "source": [
    "### Type of Data"
   ]
  },
  {
   "cell_type": "code",
   "execution_count": 5,
   "id": "c46e4f47",
   "metadata": {},
   "outputs": [
    {
     "name": "stdout",
     "output_type": "stream",
     "text": [
      "<class 'pandas.core.frame.DataFrame'>\n",
      "RangeIndex: 4521 entries, 0 to 4520\n",
      "Data columns (total 17 columns):\n",
      " #   Column     Non-Null Count  Dtype \n",
      "---  ------     --------------  ----- \n",
      " 0   age        4521 non-null   int64 \n",
      " 1   job        4521 non-null   object\n",
      " 2   marital    4521 non-null   object\n",
      " 3   education  4521 non-null   object\n",
      " 4   default    4521 non-null   object\n",
      " 5   balance    4521 non-null   int64 \n",
      " 6   housing    4521 non-null   object\n",
      " 7   loan       4521 non-null   object\n",
      " 8   contact    4521 non-null   object\n",
      " 9   day        4521 non-null   int64 \n",
      " 10  month      4521 non-null   object\n",
      " 11  duration   4521 non-null   int64 \n",
      " 12  campaign   4521 non-null   int64 \n",
      " 13  pdays      4521 non-null   int64 \n",
      " 14  previous   4521 non-null   int64 \n",
      " 15  poutcome   4521 non-null   object\n",
      " 16  y          4521 non-null   object\n",
      "dtypes: int64(7), object(10)\n",
      "memory usage: 600.6+ KB\n"
     ]
    }
   ],
   "source": [
    "# menggunakan metode info() untuk mendapatkan informasi dasar tentang kerangka data\n",
    "data.info()"
   ]
  },
  {
   "cell_type": "markdown",
   "id": "1cec2c20",
   "metadata": {},
   "source": [
    "### List of Columns"
   ]
  },
  {
   "cell_type": "code",
   "execution_count": 6,
   "id": "74c7f8fa",
   "metadata": {},
   "outputs": [
    {
     "data": {
      "text/plain": [
       "array(['age', 'job', 'marital', 'education', 'default', 'balance',\n",
       "       'housing', 'loan', 'contact', 'day', 'month', 'duration',\n",
       "       'campaign', 'pdays', 'previous', 'poutcome', 'y'], dtype=object)"
      ]
     },
     "execution_count": 6,
     "metadata": {},
     "output_type": "execute_result"
    }
   ],
   "source": [
    "# menggunakan parameter .columns.values untuk mendapatkan list header kolom\n",
    "data.columns.values"
   ]
  },
  {
   "cell_type": "markdown",
   "id": "97f9dfa5",
   "metadata": {},
   "source": [
    "### Index"
   ]
  },
  {
   "cell_type": "code",
   "execution_count": 7,
   "id": "d7de2bb2",
   "metadata": {},
   "outputs": [
    {
     "data": {
      "text/plain": [
       "array([   0,    1,    2, ..., 4518, 4519, 4520], dtype=int64)"
      ]
     },
     "execution_count": 7,
     "metadata": {},
     "output_type": "execute_result"
    }
   ],
   "source": [
    "# Menggunakan parameter .index untuk mendapatkan daftar indeks\n",
    "data.index.values"
   ]
  },
  {
   "cell_type": "markdown",
   "id": "44fc6ae5",
   "metadata": {},
   "source": [
    "### Number of Rows and Columns"
   ]
  },
  {
   "cell_type": "code",
   "execution_count": 8,
   "id": "f3ef2f39",
   "metadata": {},
   "outputs": [
    {
     "data": {
      "text/plain": [
       "(4521, 17)"
      ]
     },
     "execution_count": 8,
     "metadata": {},
     "output_type": "execute_result"
    }
   ],
   "source": [
    "# Menggunakan parameter .shape untuk mengetahui jumlah baris dan kolom pada dataset\n",
    "data.shape"
   ]
  },
  {
   "cell_type": "code",
   "execution_count": 9,
   "id": "464f9965",
   "metadata": {},
   "outputs": [
    {
     "data": {
      "text/plain": [
       "age            67\n",
       "job            12\n",
       "marital         3\n",
       "education       4\n",
       "default         2\n",
       "balance      2353\n",
       "housing         2\n",
       "loan            2\n",
       "contact         3\n",
       "day            31\n",
       "month          12\n",
       "duration      875\n",
       "campaign       32\n",
       "pdays         292\n",
       "previous       24\n",
       "poutcome        4\n",
       "y               2\n",
       "dtype: int64"
      ]
     },
     "execution_count": 9,
     "metadata": {},
     "output_type": "execute_result"
    }
   ],
   "source": [
    "# Menghitung jumlah nilai unik pada setiap kolom\n",
    "data.nunique()"
   ]
  },
  {
   "cell_type": "markdown",
   "id": "8918844e",
   "metadata": {},
   "source": [
    "### Missing Values"
   ]
  },
  {
   "cell_type": "code",
   "execution_count": 10,
   "id": "aa88da98",
   "metadata": {
    "scrolled": true
   },
   "outputs": [
    {
     "data": {
      "text/plain": [
       "age          0\n",
       "job          0\n",
       "marital      0\n",
       "education    0\n",
       "default      0\n",
       "balance      0\n",
       "housing      0\n",
       "loan         0\n",
       "contact      0\n",
       "day          0\n",
       "month        0\n",
       "duration     0\n",
       "campaign     0\n",
       "pdays        0\n",
       "previous     0\n",
       "poutcome     0\n",
       "y            0\n",
       "dtype: int64"
      ]
     },
     "execution_count": 10,
     "metadata": {},
     "output_type": "execute_result"
    }
   ],
   "source": [
    "#Mengecek missing values\n",
    "data.isnull().sum()"
   ]
  },
  {
   "cell_type": "markdown",
   "id": "4d842cfb",
   "metadata": {},
   "source": [
    "Terlihat bahwa tidak terdapat missing value dari data."
   ]
  },
  {
   "cell_type": "markdown",
   "id": "d415e935",
   "metadata": {},
   "source": [
    "### Data Duplikat"
   ]
  },
  {
   "cell_type": "code",
   "execution_count": 11,
   "id": "b60e3dd7",
   "metadata": {},
   "outputs": [
    {
     "data": {
      "text/plain": [
       "False"
      ]
     },
     "execution_count": 11,
     "metadata": {},
     "output_type": "execute_result"
    }
   ],
   "source": [
    "data.duplicated().any()"
   ]
  },
  {
   "cell_type": "code",
   "execution_count": 12,
   "id": "f0780bfe",
   "metadata": {},
   "outputs": [
    {
     "data": {
      "text/plain": [
       "False    4521\n",
       "dtype: int64"
      ]
     },
     "execution_count": 12,
     "metadata": {},
     "output_type": "execute_result"
    }
   ],
   "source": [
    "data.duplicated().value_counts()"
   ]
  },
  {
   "cell_type": "markdown",
   "id": "0db3c646",
   "metadata": {},
   "source": [
    "Terlihat tidak terdapat data duplikat."
   ]
  },
  {
   "cell_type": "code",
   "execution_count": 13,
   "id": "527a71db",
   "metadata": {
    "scrolled": true
   },
   "outputs": [
    {
     "data": {
      "text/plain": [
       "Index(['age', 'job', 'marital', 'education', 'default', 'balance', 'housing',\n",
       "       'loan', 'contact', 'day', 'month', 'duration', 'campaign', 'pdays',\n",
       "       'previous', 'poutcome', 'y'],\n",
       "      dtype='object')"
      ]
     },
     "execution_count": 13,
     "metadata": {},
     "output_type": "execute_result"
    }
   ],
   "source": [
    "data.columns"
   ]
  },
  {
   "cell_type": "code",
   "execution_count": 14,
   "id": "6b533eec",
   "metadata": {},
   "outputs": [
    {
     "data": {
      "text/plain": [
       "(4521, 17)"
      ]
     },
     "execution_count": 14,
     "metadata": {},
     "output_type": "execute_result"
    }
   ],
   "source": [
    "data.shape"
   ]
  },
  {
   "cell_type": "code",
   "execution_count": 15,
   "id": "d5b5ad7a",
   "metadata": {},
   "outputs": [
    {
     "name": "stdout",
     "output_type": "stream",
     "text": [
      "age : \n",
      "34    231\n",
      "32    224\n",
      "31    199\n",
      "36    188\n",
      "33    186\n",
      "     ... \n",
      "68      2\n",
      "87      1\n",
      "81      1\n",
      "86      1\n",
      "84      1\n",
      "Name: age, Length: 67, dtype: int64\n",
      "\n",
      " ************************************************************ \n",
      "\n",
      "job : \n",
      "management       969\n",
      "blue-collar      946\n",
      "technician       768\n",
      "admin.           478\n",
      "services         417\n",
      "retired          230\n",
      "self-employed    183\n",
      "entrepreneur     168\n",
      "unemployed       128\n",
      "housemaid        112\n",
      "student           84\n",
      "unknown           38\n",
      "Name: job, dtype: int64\n",
      "\n",
      " ************************************************************ \n",
      "\n",
      "marital : \n",
      "married     2797\n",
      "single      1196\n",
      "divorced     528\n",
      "Name: marital, dtype: int64\n",
      "\n",
      " ************************************************************ \n",
      "\n",
      "education : \n",
      "secondary    2306\n",
      "tertiary     1350\n",
      "primary       678\n",
      "unknown       187\n",
      "Name: education, dtype: int64\n",
      "\n",
      " ************************************************************ \n",
      "\n",
      "default : \n",
      "no     4445\n",
      "yes      76\n",
      "Name: default, dtype: int64\n",
      "\n",
      " ************************************************************ \n",
      "\n",
      "balance : \n",
      "0       357\n",
      "2        24\n",
      "1        15\n",
      "4        13\n",
      "5        11\n",
      "       ... \n",
      "539       1\n",
      "1041      1\n",
      "464       1\n",
      "7702      1\n",
      "1137      1\n",
      "Name: balance, Length: 2353, dtype: int64\n",
      "\n",
      " ************************************************************ \n",
      "\n",
      "housing : \n",
      "yes    2559\n",
      "no     1962\n",
      "Name: housing, dtype: int64\n",
      "\n",
      " ************************************************************ \n",
      "\n",
      "loan : \n",
      "no     3830\n",
      "yes     691\n",
      "Name: loan, dtype: int64\n",
      "\n",
      " ************************************************************ \n",
      "\n",
      "contact : \n",
      "cellular     2896\n",
      "unknown      1324\n",
      "telephone     301\n",
      "Name: contact, dtype: int64\n",
      "\n",
      " ************************************************************ \n",
      "\n",
      "day : \n",
      "20    257\n",
      "18    226\n",
      "19    201\n",
      "21    198\n",
      "14    195\n",
      "17    191\n",
      "7     190\n",
      "6     187\n",
      "28    181\n",
      "5     181\n",
      "8     180\n",
      "29    175\n",
      "15    174\n",
      "30    168\n",
      "13    166\n",
      "16    164\n",
      "9     163\n",
      "11    152\n",
      "12    151\n",
      "4     139\n",
      "2     114\n",
      "27    113\n",
      "26    110\n",
      "3     105\n",
      "23    102\n",
      "22     86\n",
      "25     80\n",
      "31     59\n",
      "10     50\n",
      "24     36\n",
      "1      27\n",
      "Name: day, dtype: int64\n",
      "\n",
      " ************************************************************ \n",
      "\n",
      "month : \n",
      "may    1398\n",
      "jul     706\n",
      "aug     633\n",
      "jun     531\n",
      "nov     389\n",
      "apr     293\n",
      "feb     222\n",
      "jan     148\n",
      "oct      80\n",
      "sep      52\n",
      "mar      49\n",
      "dec      20\n",
      "Name: month, dtype: int64\n",
      "\n",
      " ************************************************************ \n",
      "\n",
      "duration : \n",
      "123     27\n",
      "104     25\n",
      "119     23\n",
      "77      22\n",
      "58      22\n",
      "        ..\n",
      "762      1\n",
      "602      1\n",
      "923      1\n",
      "1032     1\n",
      "660      1\n",
      "Name: duration, Length: 875, dtype: int64\n",
      "\n",
      " ************************************************************ \n",
      "\n",
      "campaign : \n",
      "1     1734\n",
      "2     1264\n",
      "3      558\n",
      "4      325\n",
      "5      167\n",
      "6      155\n",
      "7       75\n",
      "8       56\n",
      "9       30\n",
      "10      27\n",
      "11      22\n",
      "12      21\n",
      "13      17\n",
      "14      10\n",
      "15       9\n",
      "16       8\n",
      "17       7\n",
      "18       7\n",
      "25       4\n",
      "19       3\n",
      "20       3\n",
      "28       3\n",
      "24       3\n",
      "32       2\n",
      "21       2\n",
      "23       2\n",
      "22       2\n",
      "31       1\n",
      "29       1\n",
      "50       1\n",
      "30       1\n",
      "44       1\n",
      "Name: campaign, dtype: int64\n",
      "\n",
      " ************************************************************ \n",
      "\n",
      "pdays : \n",
      "-1      3705\n",
      " 182      23\n",
      " 183      20\n",
      " 363      12\n",
      " 92       12\n",
      "        ... \n",
      " 118       1\n",
      " 386       1\n",
      " 63        1\n",
      " 81        1\n",
      " 234       1\n",
      "Name: pdays, Length: 292, dtype: int64\n",
      "\n",
      " ************************************************************ \n",
      "\n",
      "previous : \n",
      "0     3705\n",
      "1      286\n",
      "2      193\n",
      "3      113\n",
      "4       78\n",
      "5       47\n",
      "6       25\n",
      "7       22\n",
      "8       18\n",
      "9       10\n",
      "12       5\n",
      "10       4\n",
      "11       3\n",
      "14       2\n",
      "24       1\n",
      "22       1\n",
      "23       1\n",
      "17       1\n",
      "18       1\n",
      "15       1\n",
      "13       1\n",
      "19       1\n",
      "20       1\n",
      "25       1\n",
      "Name: previous, dtype: int64\n",
      "\n",
      " ************************************************************ \n",
      "\n",
      "poutcome : \n",
      "unknown    3705\n",
      "failure     490\n",
      "other       197\n",
      "success     129\n",
      "Name: poutcome, dtype: int64\n",
      "\n",
      " ************************************************************ \n",
      "\n",
      "y : \n",
      "no     4000\n",
      "yes     521\n",
      "Name: y, dtype: int64\n",
      "\n",
      " ************************************************************ \n",
      "\n"
     ]
    }
   ],
   "source": [
    "for col in data.columns:\n",
    "    print(col, ': ')\n",
    "    print(data[col].value_counts())\n",
    "    print('\\n','*'*60,'\\n')"
   ]
  },
  {
   "cell_type": "markdown",
   "id": "e74fa649",
   "metadata": {},
   "source": [
    "## Data Exploration"
   ]
  },
  {
   "cell_type": "code",
   "execution_count": 16,
   "id": "1b880b95",
   "metadata": {
    "scrolled": true
   },
   "outputs": [
    {
     "data": {
      "text/html": [
       "<div>\n",
       "<style scoped>\n",
       "    .dataframe tbody tr th:only-of-type {\n",
       "        vertical-align: middle;\n",
       "    }\n",
       "\n",
       "    .dataframe tbody tr th {\n",
       "        vertical-align: top;\n",
       "    }\n",
       "\n",
       "    .dataframe thead th {\n",
       "        text-align: right;\n",
       "    }\n",
       "</style>\n",
       "<table border=\"1\" class=\"dataframe\">\n",
       "  <thead>\n",
       "    <tr style=\"text-align: right;\">\n",
       "      <th></th>\n",
       "      <th>age</th>\n",
       "      <th>job</th>\n",
       "      <th>marital</th>\n",
       "      <th>education</th>\n",
       "      <th>default</th>\n",
       "      <th>balance</th>\n",
       "      <th>housing</th>\n",
       "      <th>loan</th>\n",
       "      <th>contact</th>\n",
       "      <th>day</th>\n",
       "      <th>month</th>\n",
       "      <th>duration</th>\n",
       "      <th>campaign</th>\n",
       "      <th>pdays</th>\n",
       "      <th>previous</th>\n",
       "      <th>poutcome</th>\n",
       "      <th>y</th>\n",
       "    </tr>\n",
       "  </thead>\n",
       "  <tbody>\n",
       "    <tr>\n",
       "      <th>0</th>\n",
       "      <td>30</td>\n",
       "      <td>unemployed</td>\n",
       "      <td>married</td>\n",
       "      <td>primary</td>\n",
       "      <td>no</td>\n",
       "      <td>1787</td>\n",
       "      <td>no</td>\n",
       "      <td>no</td>\n",
       "      <td>cellular</td>\n",
       "      <td>19</td>\n",
       "      <td>oct</td>\n",
       "      <td>79</td>\n",
       "      <td>1</td>\n",
       "      <td>-1</td>\n",
       "      <td>0</td>\n",
       "      <td>unknown</td>\n",
       "      <td>no</td>\n",
       "    </tr>\n",
       "    <tr>\n",
       "      <th>1</th>\n",
       "      <td>33</td>\n",
       "      <td>services</td>\n",
       "      <td>married</td>\n",
       "      <td>secondary</td>\n",
       "      <td>no</td>\n",
       "      <td>4789</td>\n",
       "      <td>yes</td>\n",
       "      <td>yes</td>\n",
       "      <td>cellular</td>\n",
       "      <td>11</td>\n",
       "      <td>may</td>\n",
       "      <td>220</td>\n",
       "      <td>1</td>\n",
       "      <td>339</td>\n",
       "      <td>4</td>\n",
       "      <td>failure</td>\n",
       "      <td>no</td>\n",
       "    </tr>\n",
       "    <tr>\n",
       "      <th>2</th>\n",
       "      <td>35</td>\n",
       "      <td>management</td>\n",
       "      <td>single</td>\n",
       "      <td>tertiary</td>\n",
       "      <td>no</td>\n",
       "      <td>1350</td>\n",
       "      <td>yes</td>\n",
       "      <td>no</td>\n",
       "      <td>cellular</td>\n",
       "      <td>16</td>\n",
       "      <td>apr</td>\n",
       "      <td>185</td>\n",
       "      <td>1</td>\n",
       "      <td>330</td>\n",
       "      <td>1</td>\n",
       "      <td>failure</td>\n",
       "      <td>no</td>\n",
       "    </tr>\n",
       "    <tr>\n",
       "      <th>3</th>\n",
       "      <td>30</td>\n",
       "      <td>management</td>\n",
       "      <td>married</td>\n",
       "      <td>tertiary</td>\n",
       "      <td>no</td>\n",
       "      <td>1476</td>\n",
       "      <td>yes</td>\n",
       "      <td>yes</td>\n",
       "      <td>unknown</td>\n",
       "      <td>3</td>\n",
       "      <td>jun</td>\n",
       "      <td>199</td>\n",
       "      <td>4</td>\n",
       "      <td>-1</td>\n",
       "      <td>0</td>\n",
       "      <td>unknown</td>\n",
       "      <td>no</td>\n",
       "    </tr>\n",
       "    <tr>\n",
       "      <th>4</th>\n",
       "      <td>59</td>\n",
       "      <td>blue-collar</td>\n",
       "      <td>married</td>\n",
       "      <td>secondary</td>\n",
       "      <td>no</td>\n",
       "      <td>0</td>\n",
       "      <td>yes</td>\n",
       "      <td>no</td>\n",
       "      <td>unknown</td>\n",
       "      <td>5</td>\n",
       "      <td>may</td>\n",
       "      <td>226</td>\n",
       "      <td>1</td>\n",
       "      <td>-1</td>\n",
       "      <td>0</td>\n",
       "      <td>unknown</td>\n",
       "      <td>no</td>\n",
       "    </tr>\n",
       "  </tbody>\n",
       "</table>\n",
       "</div>"
      ],
      "text/plain": [
       "   age          job  marital  education default  balance housing loan  \\\n",
       "0   30   unemployed  married    primary      no     1787      no   no   \n",
       "1   33     services  married  secondary      no     4789     yes  yes   \n",
       "2   35   management   single   tertiary      no     1350     yes   no   \n",
       "3   30   management  married   tertiary      no     1476     yes  yes   \n",
       "4   59  blue-collar  married  secondary      no        0     yes   no   \n",
       "\n",
       "    contact  day month  duration  campaign  pdays  previous poutcome   y  \n",
       "0  cellular   19   oct        79         1     -1         0  unknown  no  \n",
       "1  cellular   11   may       220         1    339         4  failure  no  \n",
       "2  cellular   16   apr       185         1    330         1  failure  no  \n",
       "3   unknown    3   jun       199         4     -1         0  unknown  no  \n",
       "4   unknown    5   may       226         1     -1         0  unknown  no  "
      ]
     },
     "execution_count": 16,
     "metadata": {},
     "output_type": "execute_result"
    }
   ],
   "source": [
    "# Membuat dataframe baru : data_copy\n",
    "data_copy = data.copy()\n",
    "\n",
    "# Menunjukkan 5 data teratas\n",
    "data_copy.head()"
   ]
  },
  {
   "cell_type": "markdown",
   "id": "fd8283fe",
   "metadata": {},
   "source": [
    "### Visualizing Data\n",
    "\n",
    "#### Melihat Jumlah Klien Berlangganan Berdasarkan Usia"
   ]
  },
  {
   "cell_type": "code",
   "execution_count": 17,
   "id": "e6e7eb26",
   "metadata": {},
   "outputs": [
    {
     "data": {
      "text/html": [
       "<div>\n",
       "<style scoped>\n",
       "    .dataframe tbody tr th:only-of-type {\n",
       "        vertical-align: middle;\n",
       "    }\n",
       "\n",
       "    .dataframe tbody tr th {\n",
       "        vertical-align: top;\n",
       "    }\n",
       "\n",
       "    .dataframe thead th {\n",
       "        text-align: right;\n",
       "    }\n",
       "</style>\n",
       "<table border=\"1\" class=\"dataframe\">\n",
       "  <thead>\n",
       "    <tr style=\"text-align: right;\">\n",
       "      <th></th>\n",
       "      <th>age</th>\n",
       "      <th>Berlangganan</th>\n",
       "      <th>Tidak_Berlangganan</th>\n",
       "    </tr>\n",
       "  </thead>\n",
       "  <tbody>\n",
       "    <tr>\n",
       "      <th>0</th>\n",
       "      <td>19</td>\n",
       "      <td>2.0</td>\n",
       "      <td>2.0</td>\n",
       "    </tr>\n",
       "    <tr>\n",
       "      <th>1</th>\n",
       "      <td>20</td>\n",
       "      <td>1.0</td>\n",
       "      <td>2.0</td>\n",
       "    </tr>\n",
       "    <tr>\n",
       "      <th>2</th>\n",
       "      <td>21</td>\n",
       "      <td>1.0</td>\n",
       "      <td>6.0</td>\n",
       "    </tr>\n",
       "    <tr>\n",
       "      <th>3</th>\n",
       "      <td>22</td>\n",
       "      <td>3.0</td>\n",
       "      <td>6.0</td>\n",
       "    </tr>\n",
       "    <tr>\n",
       "      <th>4</th>\n",
       "      <td>23</td>\n",
       "      <td>2.0</td>\n",
       "      <td>18.0</td>\n",
       "    </tr>\n",
       "    <tr>\n",
       "      <th>...</th>\n",
       "      <td>...</td>\n",
       "      <td>...</td>\n",
       "      <td>...</td>\n",
       "    </tr>\n",
       "    <tr>\n",
       "      <th>62</th>\n",
       "      <td>81</td>\n",
       "      <td>NaN</td>\n",
       "      <td>1.0</td>\n",
       "    </tr>\n",
       "    <tr>\n",
       "      <th>63</th>\n",
       "      <td>83</td>\n",
       "      <td>2.0</td>\n",
       "      <td>2.0</td>\n",
       "    </tr>\n",
       "    <tr>\n",
       "      <th>64</th>\n",
       "      <td>84</td>\n",
       "      <td>1.0</td>\n",
       "      <td>NaN</td>\n",
       "    </tr>\n",
       "    <tr>\n",
       "      <th>65</th>\n",
       "      <td>86</td>\n",
       "      <td>NaN</td>\n",
       "      <td>1.0</td>\n",
       "    </tr>\n",
       "    <tr>\n",
       "      <th>66</th>\n",
       "      <td>87</td>\n",
       "      <td>1.0</td>\n",
       "      <td>NaN</td>\n",
       "    </tr>\n",
       "  </tbody>\n",
       "</table>\n",
       "<p>67 rows × 3 columns</p>\n",
       "</div>"
      ],
      "text/plain": [
       "    age  Berlangganan  Tidak_Berlangganan\n",
       "0    19           2.0                 2.0\n",
       "1    20           1.0                 2.0\n",
       "2    21           1.0                 6.0\n",
       "3    22           3.0                 6.0\n",
       "4    23           2.0                18.0\n",
       "..  ...           ...                 ...\n",
       "62   81           NaN                 1.0\n",
       "63   83           2.0                 2.0\n",
       "64   84           1.0                 NaN\n",
       "65   86           NaN                 1.0\n",
       "66   87           1.0                 NaN\n",
       "\n",
       "[67 rows x 3 columns]"
      ]
     },
     "execution_count": 17,
     "metadata": {},
     "output_type": "execute_result"
    }
   ],
   "source": [
    "# membuat dataframe yang berisi data klien berlangganan dan tidak berlangganan berdasarkan usia\n",
    "yes1=pd.DataFrame(data_copy[data_copy['y']==\"yes\"].groupby(['age'])['age'].count())\n",
    "yes1.rename(columns={'age':'Berlangganan'}, inplace=True)\n",
    "no1=pd.DataFrame(data_copy[data_copy['y']==\"no\"].groupby(['age'])['age'].count())\n",
    "no1.rename(columns={'age':'Tidak_Berlangganan'}, inplace=True)\n",
    "data_usia=pd.concat([yes1,no1], axis=1).reset_index()\n",
    "data_usia=data_usia.sort_values(by=['age']).reset_index(drop=True)\n",
    "data_usia"
   ]
  },
  {
   "cell_type": "code",
   "execution_count": 19,
   "id": "5915a39b",
   "metadata": {
    "scrolled": true
   },
   "outputs": [
    {
     "data": {
      "image/png": "[encoded data removed]",
      "text/plain": [
       "<Figure size 1224x720 with 1 Axes>"
      ]
     },
     "metadata": {},
     "output_type": "display_data"
    }
   ],
   "source": [
    "# variabel yang akan digunakan pada plot\n",
    "x = data_usia['age']\n",
    "y1 = data_usia['Berlangganan']\n",
    "y2 = data_usia['Tidak_Berlangganan']\n",
    "\n",
    "# inisiasi plot\n",
    "plt.figure(figsize=(17,10))\n",
    "plt.bar(x, y1, color='olive')\n",
    "\n",
    "# membuat judul pada plot\n",
    "plt.title('Jumlah Klien Berlangganan Berdasarkan Usia')\n",
    "\n",
    "# menampilkan plot\n",
    "plt.show()"
   ]
  },
  {
   "cell_type": "code",
   "execution_count": 20,
   "id": "29ac0830",
   "metadata": {},
   "outputs": [
    {
     "data": {
      "image/png": "[encoded data removed]",
      "text/plain": [
       "<Figure size 1224x720 with 1 Axes>"
      ]
     },
     "metadata": {},
     "output_type": "display_data"
    }
   ],
   "source": [
    "# variabel yang akan digunakan pada plot\n",
    "x = data_usia['age']\n",
    "y1 = data_usia['Berlangganan']\n",
    "y2 = data_usia['Tidak_Berlangganan']\n",
    "\n",
    "# inisiasi plot\n",
    "plt.figure(figsize=(17,10))\n",
    "plt.bar(x, y2, color='pink')\n",
    "\n",
    "# membuat judul pada plot\n",
    "plt.title('Jumlah Klien Tidak Berlangganan Berdasarkan Usia')\n",
    "\n",
    "# menampilkan plot\n",
    "plt.show()"
   ]
  },
  {
   "cell_type": "markdown",
   "id": "97e53bd7",
   "metadata": {},
   "source": [
    "<b> Kesimpulan  </b>:\\\n",
    "Berdasarkan histogram di atas, terlihat bahwa usia klien yang berlangganan paling banyak pada usia 32 tahun dan diikuti pada usia 34 tahun. Sedangkan usia klien yang tidak berlangganan paling banyak pada usia 34 tahun dan diikuti pada usia 32 tahun."
   ]
  },
  {
   "cell_type": "markdown",
   "id": "77f63b3a",
   "metadata": {},
   "source": [
    "#### Melihat Jumlah Pekerjaan Klien"
   ]
  },
  {
   "cell_type": "code",
   "execution_count": 21,
   "id": "90afacbf",
   "metadata": {},
   "outputs": [
    {
     "data": {
      "text/html": [
       "<div>\n",
       "<style scoped>\n",
       "    .dataframe tbody tr th:only-of-type {\n",
       "        vertical-align: middle;\n",
       "    }\n",
       "\n",
       "    .dataframe tbody tr th {\n",
       "        vertical-align: top;\n",
       "    }\n",
       "\n",
       "    .dataframe thead th {\n",
       "        text-align: right;\n",
       "    }\n",
       "</style>\n",
       "<table border=\"1\" class=\"dataframe\">\n",
       "  <thead>\n",
       "    <tr style=\"text-align: right;\">\n",
       "      <th></th>\n",
       "      <th>job</th>\n",
       "    </tr>\n",
       "  </thead>\n",
       "  <tbody>\n",
       "    <tr>\n",
       "      <th>management</th>\n",
       "      <td>969</td>\n",
       "    </tr>\n",
       "    <tr>\n",
       "      <th>blue-collar</th>\n",
       "      <td>946</td>\n",
       "    </tr>\n",
       "    <tr>\n",
       "      <th>technician</th>\n",
       "      <td>768</td>\n",
       "    </tr>\n",
       "    <tr>\n",
       "      <th>admin.</th>\n",
       "      <td>478</td>\n",
       "    </tr>\n",
       "    <tr>\n",
       "      <th>services</th>\n",
       "      <td>417</td>\n",
       "    </tr>\n",
       "    <tr>\n",
       "      <th>retired</th>\n",
       "      <td>230</td>\n",
       "    </tr>\n",
       "    <tr>\n",
       "      <th>self-employed</th>\n",
       "      <td>183</td>\n",
       "    </tr>\n",
       "    <tr>\n",
       "      <th>entrepreneur</th>\n",
       "      <td>168</td>\n",
       "    </tr>\n",
       "    <tr>\n",
       "      <th>unemployed</th>\n",
       "      <td>128</td>\n",
       "    </tr>\n",
       "    <tr>\n",
       "      <th>housemaid</th>\n",
       "      <td>112</td>\n",
       "    </tr>\n",
       "    <tr>\n",
       "      <th>student</th>\n",
       "      <td>84</td>\n",
       "    </tr>\n",
       "    <tr>\n",
       "      <th>unknown</th>\n",
       "      <td>38</td>\n",
       "    </tr>\n",
       "  </tbody>\n",
       "</table>\n",
       "</div>"
      ],
      "text/plain": [
       "               job\n",
       "management     969\n",
       "blue-collar    946\n",
       "technician     768\n",
       "admin.         478\n",
       "services       417\n",
       "retired        230\n",
       "self-employed  183\n",
       "entrepreneur   168\n",
       "unemployed     128\n",
       "housemaid      112\n",
       "student         84\n",
       "unknown         38"
      ]
     },
     "execution_count": 21,
     "metadata": {},
     "output_type": "execute_result"
    }
   ],
   "source": [
    "# Melihat \n",
    "data_pk = pd.DataFrame(data_copy['job'].value_counts())\n",
    "data_pk"
   ]
  },
  {
   "cell_type": "code",
   "execution_count": 22,
   "id": "ed892088",
   "metadata": {},
   "outputs": [
    {
     "name": "stderr",
     "output_type": "stream",
     "text": [
      "No artists with labels found to put in legend.  Note that artists whose label start with an underscore are ignored when legend() is called with no argument.\n"
     ]
    },
    {
     "data": {
      "text/plain": [
       "<matplotlib.legend.Legend at 0x2056ec08280>"
      ]
     },
     "execution_count": 22,
     "metadata": {},
     "output_type": "execute_result"
    },
    {
     "data": {
      "image/png": "[encoded data removed]",
      "text/plain": [
       "<Figure size 1296x576 with 1 Axes>"
      ]
     },
     "metadata": {},
     "output_type": "display_data"
    }
   ],
   "source": [
    "# Membuat pie chart dari jangka waktu kredit\n",
    "color_list=['antiquewhite', 'aliceblue', 'aquamarine', 'cadetblue', 'beige','darkseagreen',\n",
    "           'pink', 'gold', 'khaki', 'salmon', 'yellow', 'beige' ]\n",
    "data_pk.plot(kind='pie', figsize=(18,8),\n",
    "                               autopct='%1.1f%%',\n",
    "                                colors=color_list,labels=None,\n",
    "                                subplots=True)\n",
    "plt.title('Persebaran Pekerjaan Klien', fontsize=16)\n",
    "plt.axis('equal')\n",
    "plt.legend(labels=data_pk.index)"
   ]
  },
  {
   "cell_type": "markdown",
   "id": "c0177b82",
   "metadata": {},
   "source": [
    "<b>Kesimpulan</b>\n",
    "\n",
    "Dari pie chart dengan persentase diatas terlihat bahwa pesebaran pekerjaan klien didominasi oleh management diikuti dengan blue-collar, dengan rician pesebarana sebagai berikut:\n",
    "1. Management dengan persentase 21.4%\n",
    "2. Blue-collar dengan persentase 20.9%\n",
    "3. Technician dengan persentase 17.0%\n",
    "4. Admin dengan persentase 10.6%\n",
    "5. Services dengan persentase 9.2%\n",
    "6. Retired dengan persentase 5.1%\n",
    "7. Self employed dengan persentase 4.0%\n",
    "8. Enterpreneur dengan persentase 3.7%\n",
    "9. Unemployed dengan persentase 2.8%\n",
    "10. Housemaid dengan persentase 2.5%\n",
    "11. Student dengan persentase 1.9%\n",
    "12. Unknown dengan persentase 0.8%"
   ]
  },
  {
   "cell_type": "markdown",
   "id": "e57eb26f",
   "metadata": {},
   "source": [
    "#### Melihat Jumlah Klien Berlangganan Berdasarkan Memiliki Kredit"
   ]
  },
  {
   "cell_type": "code",
   "execution_count": 23,
   "id": "2ee854a5",
   "metadata": {},
   "outputs": [
    {
     "data": {
      "text/html": [
       "<div>\n",
       "<style scoped>\n",
       "    .dataframe tbody tr th:only-of-type {\n",
       "        vertical-align: middle;\n",
       "    }\n",
       "\n",
       "    .dataframe tbody tr th {\n",
       "        vertical-align: top;\n",
       "    }\n",
       "\n",
       "    .dataframe thead th {\n",
       "        text-align: right;\n",
       "    }\n",
       "</style>\n",
       "<table border=\"1\" class=\"dataframe\">\n",
       "  <thead>\n",
       "    <tr style=\"text-align: right;\">\n",
       "      <th></th>\n",
       "      <th>default</th>\n",
       "      <th>Berlangganan</th>\n",
       "      <th>Tidak_Berlangganan</th>\n",
       "    </tr>\n",
       "  </thead>\n",
       "  <tbody>\n",
       "    <tr>\n",
       "      <th>0</th>\n",
       "      <td>no</td>\n",
       "      <td>512</td>\n",
       "      <td>3933</td>\n",
       "    </tr>\n",
       "    <tr>\n",
       "      <th>1</th>\n",
       "      <td>yes</td>\n",
       "      <td>9</td>\n",
       "      <td>67</td>\n",
       "    </tr>\n",
       "  </tbody>\n",
       "</table>\n",
       "</div>"
      ],
      "text/plain": [
       "  default  Berlangganan  Tidak_Berlangganan\n",
       "0      no           512                3933\n",
       "1     yes             9                  67"
      ]
     },
     "execution_count": 23,
     "metadata": {},
     "output_type": "execute_result"
    }
   ],
   "source": [
    "# membuat dataframe yang berisi data klien berlangganan dan tidak berlangganan berdasarkan usia\n",
    "yes2=pd.DataFrame(data_copy[data_copy['y']==\"yes\"].groupby(['default'])['default'].count())\n",
    "yes2.rename(columns={'default':'Berlangganan'}, inplace=True)\n",
    "no2=pd.DataFrame(data_copy[data_copy['y']==\"no\"].groupby(['default'])['default'].count())\n",
    "no2.rename(columns={'default':'Tidak_Berlangganan'}, inplace=True)\n",
    "data_kredit=pd.concat([yes2,no2], axis=1).reset_index()\n",
    "data_kredit=data_kredit.sort_values(by=['default']).reset_index(drop=True)\n",
    "data_kredit"
   ]
  },
  {
   "cell_type": "code",
   "execution_count": 24,
   "id": "f0bd7aca",
   "metadata": {},
   "outputs": [
    {
     "data": {
      "image/png": "[encoded data removed]",
      "text/plain": [
       "<Figure size 1224x720 with 1 Axes>"
      ]
     },
     "metadata": {},
     "output_type": "display_data"
    }
   ],
   "source": [
    "# variabel yang akan digunakan pada plot\n",
    "x = data_kredit['default']\n",
    "y1 = data_kredit['Berlangganan']\n",
    "y2 = data_kredit['Tidak_Berlangganan']\n",
    "\n",
    "# inisiasi plot\n",
    "plt.figure(figsize=(17,10))\n",
    "plt.bar(x, y1, color='salmon')\n",
    "\n",
    "# membuat judul pada plot\n",
    "plt.title('Jumlah Klien Berlangganan Berdasarkan Memiliki Kredit')\n",
    "\n",
    "# menampilkan plot\n",
    "plt.show()"
   ]
  },
  {
   "cell_type": "code",
   "execution_count": 25,
   "id": "5df872a4",
   "metadata": {},
   "outputs": [
    {
     "data": {
      "image/png": "[encoded data removed]",
      "text/plain": [
       "<Figure size 1224x720 with 1 Axes>"
      ]
     },
     "metadata": {},
     "output_type": "display_data"
    }
   ],
   "source": [
    "# variabel yang akan digunakan pada plot\n",
    "x = data_kredit['default']\n",
    "y1 = data_kredit['Berlangganan']\n",
    "y2 = data_kredit['Tidak_Berlangganan']\n",
    "\n",
    "# inisiasi plot\n",
    "plt.figure(figsize=(17,10))\n",
    "plt.bar(x, y2, color='pink')\n",
    "\n",
    "# membuat judul pada plot\n",
    "plt.title('Jumlah Klien Tidak Berlangganan Berdasarkan Memiliki Kredit')\n",
    "\n",
    "# menampilkan plot\n",
    "plt.show()"
   ]
  },
  {
   "cell_type": "markdown",
   "id": "03054152",
   "metadata": {},
   "source": [
    "<b> Kesimpulan  </b>:\\\n",
    "Berdasarkan histogram di atas, terlihat bahwa klien yang berlangganan banyak idak memiliki kredit dengan jumlah 512 klien sedangkan yang memiliki kredit hanya 9 klien. Untuk klien yang tidak berlangganan didominasi oleh klien yang tidak memiliki kredit dengan jumlah 3933 klien sedangkan yang memiliki kredit sebanyak 67 klien.\\\n",
    "Maka dapat disimpulkan bahwa klien didominasi oleh tidak berlangganan dan tidak memiliki kredit."
   ]
  },
  {
   "cell_type": "markdown",
   "id": "19eb093f",
   "metadata": {},
   "source": [
    "## Data Preprocessing"
   ]
  },
  {
   "cell_type": "code",
   "execution_count": 26,
   "id": "c829f62b",
   "metadata": {},
   "outputs": [],
   "source": [
    "# Defining dataset\n",
    "columns_num = ['age', 'balance', 'day', 'duration', 'pdays', 'previous', 'campaign']\n",
    "columns_cat = ['job', 'marital', 'education', 'default', 'housing', 'loan', 'contact', 'month', 'poutcome']\n",
    "columns_features = ['age', 'balance', 'day', 'duration', 'pdays', 'previous', 'job', 'marital', 'education',\n",
    "                    'default', 'housing', 'loan', 'contact', 'month', 'poutcome', 'campaign']\n",
    "columns_bool = ['y']"
   ]
  },
  {
   "cell_type": "code",
   "execution_count": 28,
   "id": "22b1fa04",
   "metadata": {},
   "outputs": [],
   "source": [
    "le = preprocessing.LabelEncoder()\n",
    "# Mengubah tipe beberapa kolom\n",
    "for col in columns_cat:\n",
    "    data_copy[col] = le.fit_transform(data_copy[col])\n",
    "    \n",
    "for col in columns_bool:\n",
    "    data_copy[col] = le.fit_transform(data_copy[col])"
   ]
  },
  {
   "cell_type": "code",
   "execution_count": 29,
   "id": "11b2e631",
   "metadata": {},
   "outputs": [
    {
     "data": {
      "text/html": [
       "<div>\n",
       "<style scoped>\n",
       "    .dataframe tbody tr th:only-of-type {\n",
       "        vertical-align: middle;\n",
       "    }\n",
       "\n",
       "    .dataframe tbody tr th {\n",
       "        vertical-align: top;\n",
       "    }\n",
       "\n",
       "    .dataframe thead th {\n",
       "        text-align: right;\n",
       "    }\n",
       "</style>\n",
       "<table border=\"1\" class=\"dataframe\">\n",
       "  <thead>\n",
       "    <tr style=\"text-align: right;\">\n",
       "      <th></th>\n",
       "      <th>age</th>\n",
       "      <th>job</th>\n",
       "      <th>marital</th>\n",
       "      <th>education</th>\n",
       "      <th>default</th>\n",
       "      <th>balance</th>\n",
       "      <th>housing</th>\n",
       "      <th>loan</th>\n",
       "      <th>contact</th>\n",
       "      <th>day</th>\n",
       "      <th>month</th>\n",
       "      <th>duration</th>\n",
       "      <th>campaign</th>\n",
       "      <th>pdays</th>\n",
       "      <th>previous</th>\n",
       "      <th>poutcome</th>\n",
       "      <th>y</th>\n",
       "    </tr>\n",
       "  </thead>\n",
       "  <tbody>\n",
       "    <tr>\n",
       "      <th>0</th>\n",
       "      <td>30</td>\n",
       "      <td>10</td>\n",
       "      <td>1</td>\n",
       "      <td>0</td>\n",
       "      <td>0</td>\n",
       "      <td>1787</td>\n",
       "      <td>0</td>\n",
       "      <td>0</td>\n",
       "      <td>0</td>\n",
       "      <td>19</td>\n",
       "      <td>10</td>\n",
       "      <td>79</td>\n",
       "      <td>1</td>\n",
       "      <td>-1</td>\n",
       "      <td>0</td>\n",
       "      <td>3</td>\n",
       "      <td>0</td>\n",
       "    </tr>\n",
       "    <tr>\n",
       "      <th>1</th>\n",
       "      <td>33</td>\n",
       "      <td>7</td>\n",
       "      <td>1</td>\n",
       "      <td>1</td>\n",
       "      <td>0</td>\n",
       "      <td>4789</td>\n",
       "      <td>1</td>\n",
       "      <td>1</td>\n",
       "      <td>0</td>\n",
       "      <td>11</td>\n",
       "      <td>8</td>\n",
       "      <td>220</td>\n",
       "      <td>1</td>\n",
       "      <td>339</td>\n",
       "      <td>4</td>\n",
       "      <td>0</td>\n",
       "      <td>0</td>\n",
       "    </tr>\n",
       "    <tr>\n",
       "      <th>2</th>\n",
       "      <td>35</td>\n",
       "      <td>4</td>\n",
       "      <td>2</td>\n",
       "      <td>2</td>\n",
       "      <td>0</td>\n",
       "      <td>1350</td>\n",
       "      <td>1</td>\n",
       "      <td>0</td>\n",
       "      <td>0</td>\n",
       "      <td>16</td>\n",
       "      <td>0</td>\n",
       "      <td>185</td>\n",
       "      <td>1</td>\n",
       "      <td>330</td>\n",
       "      <td>1</td>\n",
       "      <td>0</td>\n",
       "      <td>0</td>\n",
       "    </tr>\n",
       "    <tr>\n",
       "      <th>3</th>\n",
       "      <td>30</td>\n",
       "      <td>4</td>\n",
       "      <td>1</td>\n",
       "      <td>2</td>\n",
       "      <td>0</td>\n",
       "      <td>1476</td>\n",
       "      <td>1</td>\n",
       "      <td>1</td>\n",
       "      <td>2</td>\n",
       "      <td>3</td>\n",
       "      <td>6</td>\n",
       "      <td>199</td>\n",
       "      <td>4</td>\n",
       "      <td>-1</td>\n",
       "      <td>0</td>\n",
       "      <td>3</td>\n",
       "      <td>0</td>\n",
       "    </tr>\n",
       "    <tr>\n",
       "      <th>4</th>\n",
       "      <td>59</td>\n",
       "      <td>1</td>\n",
       "      <td>1</td>\n",
       "      <td>1</td>\n",
       "      <td>0</td>\n",
       "      <td>0</td>\n",
       "      <td>1</td>\n",
       "      <td>0</td>\n",
       "      <td>2</td>\n",
       "      <td>5</td>\n",
       "      <td>8</td>\n",
       "      <td>226</td>\n",
       "      <td>1</td>\n",
       "      <td>-1</td>\n",
       "      <td>0</td>\n",
       "      <td>3</td>\n",
       "      <td>0</td>\n",
       "    </tr>\n",
       "  </tbody>\n",
       "</table>\n",
       "</div>"
      ],
      "text/plain": [
       "   age  job  marital  education  default  balance  housing  loan  contact  \\\n",
       "0   30   10        1          0        0     1787        0     0        0   \n",
       "1   33    7        1          1        0     4789        1     1        0   \n",
       "2   35    4        2          2        0     1350        1     0        0   \n",
       "3   30    4        1          2        0     1476        1     1        2   \n",
       "4   59    1        1          1        0        0        1     0        2   \n",
       "\n",
       "   day  month  duration  campaign  pdays  previous  poutcome  y  \n",
       "0   19     10        79         1     -1         0         3  0  \n",
       "1   11      8       220         1    339         4         0  0  \n",
       "2   16      0       185         1    330         1         0  0  \n",
       "3    3      6       199         4     -1         0         3  0  \n",
       "4    5      8       226         1     -1         0         3  0  "
      ]
     },
     "execution_count": 29,
     "metadata": {},
     "output_type": "execute_result"
    }
   ],
   "source": [
    "data_copy.head()"
   ]
  },
  {
   "cell_type": "markdown",
   "id": "b804bb28",
   "metadata": {},
   "source": [
    "### Splitting Data"
   ]
  },
  {
   "cell_type": "code",
   "execution_count": 30,
   "id": "870f5d68",
   "metadata": {},
   "outputs": [],
   "source": [
    "# Memisahkan variabel independen dan dependen\n",
    "X = data_copy.drop(columns='y')\n",
    "y = data_copy['y']\n",
    "\n",
    "# Membagi data untuk training dan testing dengan rasio 80:20\n",
    "X_train, X_test, y_train, y_test = train_test_split(X, y, test_size=0.2, random_state=0)"
   ]
  },
  {
   "cell_type": "code",
   "execution_count": 31,
   "id": "392e689a",
   "metadata": {
    "scrolled": true
   },
   "outputs": [
    {
     "name": "stdout",
     "output_type": "stream",
     "text": [
      "(3616, 16)\n",
      "(905, 16)\n"
     ]
    }
   ],
   "source": [
    "# Melihat jumlah data training dan data testing\n",
    "print(X_train.shape)\n",
    "print(X_test.shape)"
   ]
  },
  {
   "cell_type": "markdown",
   "id": "48a4f369",
   "metadata": {},
   "source": [
    "## Generating Model"
   ]
  },
  {
   "cell_type": "markdown",
   "id": "45aca23f",
   "metadata": {},
   "source": [
    "### Logistic Regression"
   ]
  },
  {
   "cell_type": "markdown",
   "id": "f5d6db05",
   "metadata": {},
   "source": [
    "#### Defining Model"
   ]
  },
  {
   "cell_type": "code",
   "execution_count": 32,
   "id": "eea505ab",
   "metadata": {},
   "outputs": [],
   "source": [
    "model_LR = LogisticRegression()"
   ]
  },
  {
   "cell_type": "markdown",
   "id": "9ce303ad",
   "metadata": {},
   "source": [
    "#### Model Evaluation"
   ]
  },
  {
   "cell_type": "code",
   "execution_count": 33,
   "id": "91e9aa84",
   "metadata": {
    "scrolled": true
   },
   "outputs": [
    {
     "name": "stdout",
     "output_type": "stream",
     "text": [
      "              precision    recall  f1-score   support\n",
      "\n",
      "           0       0.90      0.98      0.94       793\n",
      "           1       0.56      0.21      0.30       112\n",
      "\n",
      "    accuracy                           0.88       905\n",
      "   macro avg       0.73      0.59      0.62       905\n",
      "weighted avg       0.86      0.88      0.86       905\n",
      "\n",
      "=============================================================\n",
      "\u001b[1m Ringkasan Evaluasi Model Logistic Regression Classifier \u001b[0m\n",
      "=============================================================\n",
      "Akurasi : \u001b[1m 0.8818 \u001b[0m\n",
      "Presisi : \u001b[1m 0.561 \u001b[0m\n",
      "Recall : \u001b[1m 0.2054 \u001b[0m\n",
      "F1 Score : \u001b[1m 0.3007 \u001b[0m\n",
      "=============================================================\n"
     ]
    }
   ],
   "source": [
    "# Training Model\n",
    "model_LR.fit(X_train, y_train)\n",
    "\n",
    "# Testing Model\n",
    "y_pred1 = model_LR.predict(X_test)\n",
    "\n",
    "# Evaluasi model\n",
    "confusion_matrix(y_test,y_pred1)\n",
    "\n",
    "print(classification_report(y_test,y_pred1))\n",
    "\n",
    "#Ringkasan Evaluasi Model  Logistic Regression Classifier\n",
    "print(\"=============================================================\")\n",
    "print(bold,'Ringkasan Evaluasi Model Logistic Regression Classifier',normal)\n",
    "print(\"=============================================================\")\n",
    "print('Akurasi :', bold,round(accuracy_score(y_test, y_pred1),4),normal)\n",
    "print('Presisi :', bold,round(precision_score(y_test,y_pred1),4),normal)\n",
    "print('Recall :', bold,round(recall_score(y_test,y_pred1),4),normal)\n",
    "print('F1 Score :', bold,round(f1_score(y_test,y_pred1),4),normal)\n",
    "print(\"=============================================================\")"
   ]
  },
  {
   "cell_type": "code",
   "execution_count": 34,
   "id": "92b64e97",
   "metadata": {},
   "outputs": [
    {
     "data": {
      "text/plain": [
       "<AxesSubplot:>"
      ]
     },
     "execution_count": 34,
     "metadata": {},
     "output_type": "execute_result"
    },
    {
     "data": {
      "image/png": "[encoded data removed]",
      "text/plain": [
       "<Figure size 1152x864 with 2 Axes>"
      ]
     },
     "metadata": {},
     "output_type": "display_data"
    }
   ],
   "source": [
    "# Melihat confusion matrix\n",
    "cm1 = confusion_matrix(y_test, y_pred1)\n",
    "sns.heatmap(cm1, annot=True, fmt=\"d\", linewidths=.5, cmap = 'Reds',)"
   ]
  },
  {
   "cell_type": "markdown",
   "id": "dabd801a",
   "metadata": {},
   "source": [
    "<b> Kesimpulan  </b>:\\\n",
    "Dengan menggunakan pembagian data training dan data testing sebesar 80% didapat nilai akurasi menggunakan Logistic Regression sebesar 88,18%."
   ]
  },
  {
   "cell_type": "markdown",
   "id": "f3a620c1",
   "metadata": {},
   "source": [
    "###  K-Nearest Neighbor"
   ]
  },
  {
   "cell_type": "code",
   "execution_count": 35,
   "id": "04409bd5",
   "metadata": {},
   "outputs": [],
   "source": [
    "# Dilakukan standarisasi data untuk penggunaan algoritma K-Nearest Neighbor\n",
    "scaler = StandardScaler()\n",
    "scaler.fit(X_train)\n",
    "\n",
    "X1_train = scaler.transform(X_train)\n",
    "X1_test = scaler.transform(X_test)"
   ]
  },
  {
   "cell_type": "code",
   "execution_count": 36,
   "id": "214ce6a3",
   "metadata": {},
   "outputs": [],
   "source": [
    "# Menetukan nilai K\n",
    "error = []\n",
    "\n",
    "for i in range(1, 20):\n",
    "    knn = KNeighborsClassifier(n_neighbors=i)\n",
    "    knn.fit(X1_train, y_train)\n",
    "    pred_i = knn.predict(X1_test)\n",
    "    error.append(np.mean(pred_i != y_test))"
   ]
  },
  {
   "cell_type": "code",
   "execution_count": 37,
   "id": "a89b665e",
   "metadata": {},
   "outputs": [
    {
     "data": {
      "text/plain": [
       "Text(0, 0.5, 'Error mean')"
      ]
     },
     "execution_count": 37,
     "metadata": {},
     "output_type": "execute_result"
    },
    {
     "data": {
      "image/png": "[encoded data removed]",
      "text/plain": [
       "<Figure size 864x432 with 1 Axes>"
      ]
     },
     "metadata": {},
     "output_type": "display_data"
    }
   ],
   "source": [
    "plt.figure(figsize=(12, 6))\n",
    "plt.plot(range(1, 20), error, color='red', linestyle='dashed', marker='o', markerfacecolor='blue', markersize=10)\n",
    "plt.title('Error Rate \"K\"')\n",
    "plt.xlabel('K')\n",
    "plt.ylabel('Error mean')"
   ]
  },
  {
   "cell_type": "markdown",
   "id": "e5f55d9f",
   "metadata": {},
   "source": [
    "maka akan dicoba dengan menggunakan K = 7"
   ]
  },
  {
   "cell_type": "markdown",
   "id": "ef9f22b8",
   "metadata": {},
   "source": [
    "#### Defining Model"
   ]
  },
  {
   "cell_type": "code",
   "execution_count": 38,
   "id": "03eb715d",
   "metadata": {},
   "outputs": [],
   "source": [
    "model_KNN = KNeighborsClassifier(n_neighbors=7)"
   ]
  },
  {
   "cell_type": "markdown",
   "id": "875b6995",
   "metadata": {},
   "source": [
    "#### Model Evaluation"
   ]
  },
  {
   "cell_type": "code",
   "execution_count": 39,
   "id": "3df958ab",
   "metadata": {
    "scrolled": true
   },
   "outputs": [
    {
     "name": "stdout",
     "output_type": "stream",
     "text": [
      "              precision    recall  f1-score   support\n",
      "\n",
      "           0       0.90      0.99      0.94       793\n",
      "           1       0.72      0.23      0.35       112\n",
      "\n",
      "    accuracy                           0.89       905\n",
      "   macro avg       0.81      0.61      0.65       905\n",
      "weighted avg       0.88      0.89      0.87       905\n",
      "\n",
      "=============================================================\n",
      "\u001b[1m Ringkasan Evaluasi Model K-Nearest Neighbor Classifier \u001b[0m\n",
      "=============================================================\n",
      "Akurasi : \u001b[1m 0.8939 \u001b[0m\n",
      "Presisi : \u001b[1m 0.7222 \u001b[0m\n",
      "Recall : \u001b[1m 0.2321 \u001b[0m\n",
      "F1 Score : \u001b[1m 0.3514 \u001b[0m\n",
      "=============================================================\n"
     ]
    }
   ],
   "source": [
    "# Training Model\n",
    "model_KNN.fit(X1_train, y_train)\n",
    "\n",
    "# Testing Model\n",
    "y_pred2 = model_KNN.predict(X1_test)\n",
    "\n",
    "# Evaluasi model\n",
    "confusion_matrix(y_test,y_pred2)\n",
    "\n",
    "print(classification_report(y_test,y_pred2))\n",
    "\n",
    "#Ringkasan Evaluasi Model K-Nearest Neighbor Classifier\n",
    "print(\"=============================================================\")\n",
    "print(bold,'Ringkasan Evaluasi Model K-Nearest Neighbor Classifier',normal)\n",
    "print(\"=============================================================\")\n",
    "print('Akurasi :', bold,round(accuracy_score(y_test, y_pred2),4),normal)\n",
    "print('Presisi :', bold,round(precision_score(y_test,y_pred2),4),normal)\n",
    "print('Recall :', bold,round(recall_score(y_test,y_pred2),4),normal)\n",
    "print('F1 Score :', bold,round(f1_score(y_test,y_pred2),4),normal)\n",
    "print(\"=============================================================\")"
   ]
  },
  {
   "cell_type": "code",
   "execution_count": 40,
   "id": "42083c66",
   "metadata": {},
   "outputs": [
    {
     "data": {
      "text/plain": [
       "<AxesSubplot:>"
      ]
     },
     "execution_count": 40,
     "metadata": {},
     "output_type": "execute_result"
    },
    {
     "data": {
      "image/png": "[encoded data removed]",
      "text/plain": [
       "<Figure size 1152x864 with 2 Axes>"
      ]
     },
     "metadata": {},
     "output_type": "display_data"
    }
   ],
   "source": [
    "# Melihat confusion matrix\n",
    "cm2 = confusion_matrix(y_test, y_pred2)\n",
    "sns.heatmap(cm2, annot=True, fmt=\"d\", linewidths=.5, cmap = 'Reds',)"
   ]
  },
  {
   "cell_type": "markdown",
   "id": "143ba62b",
   "metadata": {},
   "source": [
    "<b> Kesimpulan  </b>:\\\n",
    "Dengan menggunakan pembagian data training dan data testing sebesar 80% didapat nilai akurasi menggunakan K-Nearest Neighbors sebesar 89,39%."
   ]
  },
  {
   "cell_type": "markdown",
   "id": "f8ff17eb",
   "metadata": {},
   "source": [
    "### Support Vector Machine\n",
    "#### Defining Model"
   ]
  },
  {
   "cell_type": "code",
   "execution_count": 41,
   "id": "5010f534",
   "metadata": {},
   "outputs": [],
   "source": [
    "model_SVM = svm.SVC()"
   ]
  },
  {
   "cell_type": "markdown",
   "id": "2693055e",
   "metadata": {},
   "source": [
    "#### Model Evaluation"
   ]
  },
  {
   "cell_type": "code",
   "execution_count": 42,
   "id": "1eae2eef",
   "metadata": {
    "scrolled": true
   },
   "outputs": [
    {
     "name": "stdout",
     "output_type": "stream",
     "text": [
      "              precision    recall  f1-score   support\n",
      "\n",
      "           0       0.88      1.00      0.93       793\n",
      "           1       0.00      0.00      0.00       112\n",
      "\n",
      "    accuracy                           0.88       905\n",
      "   macro avg       0.44      0.50      0.47       905\n",
      "weighted avg       0.77      0.88      0.82       905\n",
      "\n",
      "=============================================================\n",
      "\u001b[1m Ringkasan Evaluasi Model Support Vector Machine Classifier \u001b[0m\n",
      "=============================================================\n",
      "Akurasi : \u001b[1m 0.8762 \u001b[0m\n",
      "Presisi : \u001b[1m 0.0 \u001b[0m\n",
      "Recall : \u001b[1m 0.0 \u001b[0m\n",
      "F1 Score : \u001b[1m 0.0 \u001b[0m\n",
      "=============================================================\n"
     ]
    }
   ],
   "source": [
    "# Training Model\n",
    "model_SVM.fit(X_train, y_train)\n",
    "\n",
    "# Testing Model\n",
    "y_pred3 = model_SVM.predict(X_test)\n",
    "\n",
    "# Evaluasi model\n",
    "confusion_matrix(y_test,y_pred3)\n",
    "\n",
    "print(classification_report(y_test,y_pred3))\n",
    "\n",
    "#Ringkasan Evaluasi Model Support Vector Machine Classifier\n",
    "print(\"=============================================================\")\n",
    "print(bold,'Ringkasan Evaluasi Model Support Vector Machine Classifier',normal)\n",
    "print(\"=============================================================\")\n",
    "print('Akurasi :', bold,round(accuracy_score(y_test, y_pred3),4),normal)\n",
    "print('Presisi :', bold,round(precision_score(y_test,y_pred3),4),normal)\n",
    "print('Recall :', bold,round(recall_score(y_test,y_pred3),4),normal)\n",
    "print('F1 Score :', bold,round(f1_score(y_test,y_pred3),4),normal)\n",
    "print(\"=============================================================\")"
   ]
  },
  {
   "cell_type": "code",
   "execution_count": 43,
   "id": "6096c9e9",
   "metadata": {},
   "outputs": [
    {
     "data": {
      "text/plain": [
       "<AxesSubplot:>"
      ]
     },
     "execution_count": 43,
     "metadata": {},
     "output_type": "execute_result"
    },
    {
     "data": {
      "image/png": "[encoded data removed]",
      "text/plain": [
       "<Figure size 1152x864 with 2 Axes>"
      ]
     },
     "metadata": {},
     "output_type": "display_data"
    }
   ],
   "source": [
    "# Melihat confusion matrix\n",
    "cm3 = confusion_matrix(y_test, y_pred3)\n",
    "sns.heatmap(cm3, annot=True, fmt=\"d\", linewidths=.5, cmap = 'Reds',)"
   ]
  },
  {
   "cell_type": "markdown",
   "id": "fc543d1e",
   "metadata": {},
   "source": [
    "<b> Kesimpulan  </b>:\\\n",
    "Dengan menggunakan pembagian data training dan data testing sebesar 80% didapat nilai akurasi menggunakan Support Vector Machine sebesar 87,62%."
   ]
  },
  {
   "cell_type": "markdown",
   "id": "16072d20",
   "metadata": {},
   "source": [
    "### Decision Tree\n",
    "#### Defining Model"
   ]
  },
  {
   "cell_type": "code",
   "execution_count": 44,
   "id": "1c03a573",
   "metadata": {},
   "outputs": [
    {
     "data": {
      "text/plain": [
       "{'criterion': 'gini', 'max_depth': 7}"
      ]
     },
     "execution_count": 44,
     "metadata": {},
     "output_type": "execute_result"
    }
   ],
   "source": [
    "max_depths = list(range(1,20))\n",
    "criterion = ['gini', 'entropy']\n",
    "\n",
    "param_grid = {'criterion': criterion,\n",
    "              'max_depth': max_depths}\n",
    "\n",
    "grid_search = GridSearchCV(DecisionTreeClassifier(),param_grid,scoring='accuracy')\n",
    "grid_search.fit(X_train, y_train)\n",
    "grid_search.best_params_"
   ]
  },
  {
   "cell_type": "code",
   "execution_count": 45,
   "id": "23efea59",
   "metadata": {},
   "outputs": [],
   "source": [
    "model_DT = DecisionTreeClassifier(criterion='entropy', max_depth=3)"
   ]
  },
  {
   "cell_type": "markdown",
   "id": "1396a92c",
   "metadata": {},
   "source": [
    "#### Model Evaluation"
   ]
  },
  {
   "cell_type": "code",
   "execution_count": 46,
   "id": "7018d0b3",
   "metadata": {
    "scrolled": true
   },
   "outputs": [
    {
     "name": "stdout",
     "output_type": "stream",
     "text": [
      "              precision    recall  f1-score   support\n",
      "\n",
      "           0       0.91      0.96      0.93       793\n",
      "           1       0.54      0.30      0.39       112\n",
      "\n",
      "    accuracy                           0.88       905\n",
      "   macro avg       0.72      0.63      0.66       905\n",
      "weighted avg       0.86      0.88      0.87       905\n",
      "\n",
      "=============================================================\n",
      "\u001b[1m Ringkasan Evaluasi Model Decision Tree Classifier \u001b[0m\n",
      "=============================================================\n",
      "Akurasi : \u001b[1m 0.8818 \u001b[0m\n",
      "Presisi : \u001b[1m 0.5397 \u001b[0m\n",
      "Recall : \u001b[1m 0.3036 \u001b[0m\n",
      "F1 Score : \u001b[1m 0.3886 \u001b[0m\n",
      "=============================================================\n"
     ]
    }
   ],
   "source": [
    "# Training Model\n",
    "model_DT.fit(X_train, y_train)\n",
    "\n",
    "# Testing Model\n",
    "y_pred4 = model_DT.predict(X_test)\n",
    "\n",
    "# Evaluasi model\n",
    "confusion_matrix(y_test,y_pred4)\n",
    "\n",
    "print(classification_report(y_test,y_pred4))\n",
    "\n",
    "#Ringkasan Evaluasi Model Decision Tree Classifier\n",
    "print(\"=============================================================\")\n",
    "print(bold,'Ringkasan Evaluasi Model Decision Tree Classifier',normal)\n",
    "print(\"=============================================================\")\n",
    "print('Akurasi :', bold,round(accuracy_score(y_test, y_pred4),4),normal)\n",
    "print('Presisi :', bold,round(precision_score(y_test,y_pred4),4),normal)\n",
    "print('Recall :', bold,round(recall_score(y_test,y_pred4),4),normal)\n",
    "print('F1 Score :', bold,round(f1_score(y_test,y_pred4),4),normal)\n",
    "print(\"=============================================================\")"
   ]
  },
  {
   "cell_type": "code",
   "execution_count": 47,
   "id": "5580e484",
   "metadata": {},
   "outputs": [
    {
     "data": {
      "text/plain": [
       "<AxesSubplot:>"
      ]
     },
     "execution_count": 47,
     "metadata": {},
     "output_type": "execute_result"
    },
    {
     "data": {
      "image/png": "[encoded data removed]",
      "text/plain": [
       "<Figure size 1152x864 with 2 Axes>"
      ]
     },
     "metadata": {},
     "output_type": "display_data"
    }
   ],
   "source": [
    "# Melihat confusion matrix\n",
    "cm4 = confusion_matrix(y_test, y_pred4)\n",
    "sns.heatmap(cm4, annot=True, fmt=\"d\", linewidths=.5, cmap = 'Reds',)"
   ]
  },
  {
   "cell_type": "markdown",
   "id": "8800aed1",
   "metadata": {},
   "source": [
    "<b> Kesimpulan  </b>:\\\n",
    "Dengan menggunakan pembagian data training dan data testing sebesar 80% didapat nilai akurasi menggunakan Support Vector Machine sebesar 88,18%."
   ]
  },
  {
   "cell_type": "markdown",
   "id": "9d0636bd",
   "metadata": {},
   "source": [
    "#### Visualisasi Decision Tree"
   ]
  },
  {
   "cell_type": "code",
   "execution_count": 48,
   "id": "cb1fb3cb",
   "metadata": {
    "scrolled": false
   },
   "outputs": [
    {
     "data": {
      "image/png": "[encoded data removed]",
      "text/plain": [
       "<IPython.core.display.Image object>"
      ]
     },
     "execution_count": 48,
     "metadata": {},
     "output_type": "execute_result"
    }
   ],
   "source": [
    "dot_data = StringIO()\n",
    "tree.export_graphviz(model_DT,\n",
    "                    out_file=dot_data,\n",
    "                    class_names=['0','1'],\n",
    "                    feature_names=columns_features,\n",
    "                    filled=True,\n",
    "                    rounded=True,\n",
    "                    special_characters=True)\n",
    "graph = pydotplus.graph_from_dot_data(dot_data.getvalue())\n",
    "Image(graph.create_png())"
   ]
  },
  {
   "cell_type": "markdown",
   "id": "9810547c",
   "metadata": {},
   "source": [
    "### Random Forest\n",
    "#### Defining Model"
   ]
  },
  {
   "cell_type": "code",
   "execution_count": 49,
   "id": "94efc397",
   "metadata": {},
   "outputs": [],
   "source": [
    "model_RF = RandomForestClassifier(n_estimators=100)"
   ]
  },
  {
   "cell_type": "markdown",
   "id": "4712a78f",
   "metadata": {},
   "source": [
    "#### Model Evaluation"
   ]
  },
  {
   "cell_type": "code",
   "execution_count": 50,
   "id": "543d08a0",
   "metadata": {
    "scrolled": true
   },
   "outputs": [
    {
     "name": "stdout",
     "output_type": "stream",
     "text": [
      "              precision    recall  f1-score   support\n",
      "\n",
      "           0       0.91      0.97      0.94       793\n",
      "           1       0.60      0.36      0.45       112\n",
      "\n",
      "    accuracy                           0.89       905\n",
      "   macro avg       0.76      0.66      0.69       905\n",
      "weighted avg       0.87      0.89      0.88       905\n",
      "\n",
      "=============================================================\n",
      "\u001b[1m Ringkasan Evaluasi Model Random Forest Classifier \u001b[0m\n",
      "=============================================================\n",
      "Akurasi : \u001b[1m 0.8906 \u001b[0m\n",
      "Presisi : \u001b[1m 0.597 \u001b[0m\n",
      "Recall : \u001b[1m 0.3571 \u001b[0m\n",
      "F1 Score : \u001b[1m 0.4469 \u001b[0m\n",
      "=============================================================\n"
     ]
    }
   ],
   "source": [
    "# Training Model\n",
    "model_RF.fit(X_train, y_train)\n",
    "\n",
    "# Testing Model\n",
    "y_pred5 = model_RF.predict(X_test)\n",
    "\n",
    "# Evaluasi model\n",
    "confusion_matrix(y_test,y_pred5)\n",
    "\n",
    "print(classification_report(y_test,y_pred5))\n",
    "\n",
    "#Ringkasan Evaluasi Model Random Forest Classifier\n",
    "print(\"=============================================================\")\n",
    "print(bold,'Ringkasan Evaluasi Model Random Forest Classifier',normal)\n",
    "print(\"=============================================================\")\n",
    "print('Akurasi :', bold,round(accuracy_score(y_test, y_pred5),4),normal)\n",
    "print('Presisi :', bold,round(precision_score(y_test,y_pred5),4),normal)\n",
    "print('Recall :', bold,round(recall_score(y_test,y_pred5),4),normal)\n",
    "print('F1 Score :', bold,round(f1_score(y_test,y_pred5),4),normal)\n",
    "print(\"=============================================================\")"
   ]
  },
  {
   "cell_type": "code",
   "execution_count": 51,
   "id": "e1be35a9",
   "metadata": {
    "scrolled": true
   },
   "outputs": [
    {
     "data": {
      "text/plain": [
       "<AxesSubplot:>"
      ]
     },
     "execution_count": 51,
     "metadata": {},
     "output_type": "execute_result"
    },
    {
     "data": {
      "image/png": "[encoded data removed]",
      "text/plain": [
       "<Figure size 1152x864 with 2 Axes>"
      ]
     },
     "metadata": {},
     "output_type": "display_data"
    }
   ],
   "source": [
    "# Melihat confusion matrix\n",
    "cm5 = confusion_matrix(y_test, y_pred5)\n",
    "sns.heatmap(cm5, annot=True, fmt=\"d\", linewidths=.5, cmap = 'Reds',)"
   ]
  },
  {
   "cell_type": "code",
   "execution_count": 52,
   "id": "33543843",
   "metadata": {},
   "outputs": [],
   "source": [
    "feature_im = pd.Series(model_RF.feature_importances_, index=columns_features).sort_values(ascending=False)"
   ]
  },
  {
   "cell_type": "code",
   "execution_count": 53,
   "id": "32d0560c",
   "metadata": {},
   "outputs": [
    {
     "name": "stderr",
     "output_type": "stream",
     "text": [
      "No artists with labels found to put in legend.  Note that artists whose label start with an underscore are ignored when legend() is called with no argument.\n"
     ]
    },
    {
     "data": {
      "image/png": "[encoded data removed]",
      "text/plain": [
       "<Figure size 1152x864 with 1 Axes>"
      ]
     },
     "metadata": {},
     "output_type": "display_data"
    }
   ],
   "source": [
    "# Membuat visualisasi \n",
    "sns.barplot(x=feature_im, y=feature_im.index)\n",
    "\n",
    "# Pemberian label\n",
    "plt.xlabel('Feature Importance Score')\n",
    "plt.ylabel('Features')\n",
    "plt.title(\"Visualizing Important Features\")\n",
    "plt.legend()\n",
    "plt.show()"
   ]
  },
  {
   "cell_type": "markdown",
   "id": "c63c9979",
   "metadata": {},
   "source": [
    "<b> Kesimpulan  </b>:\\\n",
    "Dengan menggunakan pembagian data training dan data testing sebesar 80% didapat nilai akurasi menggunakan Random Forest sebesar 89,06%."
   ]
  },
  {
   "cell_type": "markdown",
   "id": "2b74740f",
   "metadata": {},
   "source": [
    "### Naive Bayes\n",
    "#### Defining Model"
   ]
  },
  {
   "cell_type": "code",
   "execution_count": 54,
   "id": "4065a3b6",
   "metadata": {},
   "outputs": [],
   "source": [
    "model_NB = GaussianNB()"
   ]
  },
  {
   "cell_type": "markdown",
   "id": "8d910b13",
   "metadata": {},
   "source": [
    "#### Model Evaluation"
   ]
  },
  {
   "cell_type": "code",
   "execution_count": 55,
   "id": "d868826a",
   "metadata": {
    "scrolled": true
   },
   "outputs": [
    {
     "name": "stdout",
     "output_type": "stream",
     "text": [
      "              precision    recall  f1-score   support\n",
      "\n",
      "           0       0.92      0.86      0.89       793\n",
      "           1       0.32      0.46      0.38       112\n",
      "\n",
      "    accuracy                           0.81       905\n",
      "   macro avg       0.62      0.66      0.63       905\n",
      "weighted avg       0.84      0.81      0.83       905\n",
      "\n",
      "=============================================================\n",
      "\u001b[1m Ringkasan Evaluasi Model Naive Bayes Classifier \u001b[0m\n",
      "=============================================================\n",
      "Akurasi : \u001b[1m 0.8133 \u001b[0m\n",
      "Presisi : \u001b[1m 0.3208 \u001b[0m\n",
      "Recall : \u001b[1m 0.4554 \u001b[0m\n",
      "F1 Score : \u001b[1m 0.3764 \u001b[0m\n",
      "=============================================================\n"
     ]
    }
   ],
   "source": [
    "# Training Model\n",
    "model_NB.fit(X_train, y_train)\n",
    "\n",
    "# Testing Model\n",
    "y_pred6 = model_NB.predict(X_test)\n",
    "\n",
    "# Evaluasi model\n",
    "confusion_matrix(y_test,y_pred6)\n",
    "\n",
    "print(classification_report(y_test,y_pred6))\n",
    "\n",
    "#Ringkasan Evaluasi Model Naive Bayes Classifier\n",
    "print(\"=============================================================\")\n",
    "print(bold,'Ringkasan Evaluasi Model Naive Bayes Classifier',normal)\n",
    "print(\"=============================================================\")\n",
    "print('Akurasi :', bold,round(accuracy_score(y_test, y_pred6),4),normal)\n",
    "print('Presisi :', bold,round(precision_score(y_test,y_pred6),4),normal)\n",
    "print('Recall :', bold,round(recall_score(y_test,y_pred6),4),normal)\n",
    "print('F1 Score :', bold,round(f1_score(y_test,y_pred6),4),normal)\n",
    "print(\"=============================================================\")"
   ]
  },
  {
   "cell_type": "code",
   "execution_count": 56,
   "id": "b497288c",
   "metadata": {},
   "outputs": [
    {
     "data": {
      "text/plain": [
       "<AxesSubplot:>"
      ]
     },
     "execution_count": 56,
     "metadata": {},
     "output_type": "execute_result"
    },
    {
     "data": {
      "image/png": "[encoded data removed]",
      "text/plain": [
       "<Figure size 1152x864 with 2 Axes>"
      ]
     },
     "metadata": {},
     "output_type": "display_data"
    }
   ],
   "source": [
    "# Melihat confusion matrix\n",
    "cm6 = confusion_matrix(y_test, y_pred6)\n",
    "sns.heatmap(cm6, annot=True, fmt=\"d\", linewidths=.5, cmap = 'Reds',)"
   ]
  },
  {
   "cell_type": "markdown",
   "id": "a2d755b9",
   "metadata": {},
   "source": [
    "<b> Kesimpulan  </b>:\\\n",
    "Dengan menggunakan pembagian data training dan data testing sebesar 80% didapat nilai akurasi menggunakan Naive Bayes sebesar 81,33%."
   ]
  },
  {
   "cell_type": "code",
   "execution_count": 57,
   "id": "5f71b552",
   "metadata": {},
   "outputs": [
    {
     "name": "stdout",
     "output_type": "stream",
     "text": [
      "Accuracy of Logistic Regression classifier on test set: 0.88177\n",
      "Accuracy of KNN classifier on test set: 0.89392\n",
      "Accuracy of SVM classifier on test set: 0.87624\n",
      "Accuracy of Decision Tree classifier on test set: 0.88177\n",
      "Accuracy of Random Forest classifier on test set: 0.89061\n",
      "Accuracy of Naive Bayes classifier on test set: 0.81326\n"
     ]
    }
   ],
   "source": [
    "print('Accuracy of Logistic Regression classifier on test set: {:.5f}'.format(metrics.accuracy_score(y_test, y_pred1)))\n",
    "print('Accuracy of KNN classifier on test set: {:.5f}'.format(metrics.accuracy_score(y_test, y_pred2)))\n",
    "print('Accuracy of SVM classifier on test set: {:.5f}'.format(metrics.accuracy_score(y_test, y_pred3)))\n",
    "print('Accuracy of Decision Tree classifier on test set: {:.5f}'.format(metrics.accuracy_score(y_test, y_pred4)))\n",
    "print('Accuracy of Random Forest classifier on test set: {:.5f}'.format(metrics.accuracy_score(y_test, y_pred5)))\n",
    "print('Accuracy of Naive Bayes classifier on test set: {:.5f}'.format(metrics.accuracy_score(y_test, y_pred6)))"
   ]
  },
  {
   "cell_type": "markdown",
   "id": "c98faa1a",
   "metadata": {},
   "source": [
    "## Kesimpulan"
   ]
  },
  {
   "cell_type": "markdown",
   "id": "ec6babe9",
   "metadata": {},
   "source": [
    "Setelah dilakukan klasifikasi menggunakan enam algoritma yaitu Logistic Regression, K-Nearest Neighbors, Decision Tree, Random Forest, dan Naive Bayes didapat algoritma yang baik digunakan dalam memprediksi klien berlangganan atau tidak adalah algoritma **K-Nearest Neighbors** dengan akurasi sebesar **89,39%** dengan pembagian data training 80% dan data testing 20%. Maka dapat diartikan algoritma **K-Nearest Neighbors** memprediksi dengan akurat. "
   ]
  }
 ],
 "metadata": {
  "kernelspec": {
   "display_name": "Python 3 (ipykernel)",
   "language": "python",
   "name": "python3"
  },
  "language_info": {
   "codemirror_mode": {
    "name": "ipython",
    "version": 3
   },
   "file_extension": ".py",
   "mimetype": "text/x-python",
   "name": "python",
   "nbconvert_exporter": "python",
   "pygments_lexer": "ipython3",
   "version": "3.9.12"
  }
 },
 "nbformat": 4,
 "nbformat_minor": 5
}
