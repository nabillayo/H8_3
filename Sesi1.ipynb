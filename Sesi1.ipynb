{
 "cells": [
  {
   "cell_type": "markdown",
   "id": "2fd3e764",
   "metadata": {},
   "source": [
    "# Integers"
   ]
  },
  {
   "cell_type": "code",
   "execution_count": 1,
   "id": "681a6f9a",
   "metadata": {},
   "outputs": [
    {
     "name": "stdout",
     "output_type": "stream",
     "text": [
      "123123123123123123124\n"
     ]
    }
   ],
   "source": [
    "print(123123123123123123123 + 1)"
   ]
  },
  {
   "cell_type": "code",
   "execution_count": 2,
   "id": "5d131366",
   "metadata": {},
   "outputs": [
    {
     "name": "stdout",
     "output_type": "stream",
     "text": [
      "10\n",
      "<class 'int'>\n"
     ]
    }
   ],
   "source": [
    "print(10)\n",
    "print(type(10))"
   ]
  },
  {
   "cell_type": "markdown",
   "id": "5c4b9ad9",
   "metadata": {},
   "source": [
    "# Floating-Point Numbers"
   ]
  },
  {
   "cell_type": "code",
   "execution_count": 3,
   "id": "57cfeb4e",
   "metadata": {},
   "outputs": [
    {
     "name": "stdout",
     "output_type": "stream",
     "text": [
      "4.2\n",
      "<class 'float'>\n"
     ]
    }
   ],
   "source": [
    "print(4.2)\n",
    "print(type(4.2))"
   ]
  },
  {
   "cell_type": "code",
   "execution_count": 4,
   "id": "aaf2a11d",
   "metadata": {},
   "outputs": [
    {
     "name": "stdout",
     "output_type": "stream",
     "text": [
      "4.0\n"
     ]
    }
   ],
   "source": [
    "print(4.)"
   ]
  },
  {
   "cell_type": "code",
   "execution_count": 5,
   "id": "e35cbab5",
   "metadata": {},
   "outputs": [
    {
     "name": "stdout",
     "output_type": "stream",
     "text": [
      "0.2\n"
     ]
    }
   ],
   "source": [
    "print(.2)"
   ]
  },
  {
   "cell_type": "code",
   "execution_count": 6,
   "id": "c12d7f12",
   "metadata": {},
   "outputs": [
    {
     "name": "stdout",
     "output_type": "stream",
     "text": [
      "4000000.0\n"
     ]
    }
   ],
   "source": [
    "print(.4e7)"
   ]
  },
  {
   "cell_type": "code",
   "execution_count": 7,
   "id": "3ca69ffa",
   "metadata": {},
   "outputs": [
    {
     "name": "stdout",
     "output_type": "stream",
     "text": [
      "0.00042\n"
     ]
    }
   ],
   "source": [
    "print(4.2e-4)"
   ]
  },
  {
   "cell_type": "markdown",
   "id": "b26b6c82",
   "metadata": {},
   "source": [
    "# Strings"
   ]
  },
  {
   "cell_type": "code",
   "execution_count": 8,
   "id": "27ba81d4",
   "metadata": {},
   "outputs": [
    {
     "name": "stdout",
     "output_type": "stream",
     "text": [
      "Hacktiv8\n",
      "<class 'str'>\n"
     ]
    }
   ],
   "source": [
    "print(\"Hacktiv8\")\n",
    "print(type(\"Hacktiv8\"))"
   ]
  },
  {
   "cell_type": "code",
   "execution_count": 9,
   "id": "1263c498",
   "metadata": {},
   "outputs": [
    {
     "name": "stdout",
     "output_type": "stream",
     "text": [
      "\n"
     ]
    }
   ],
   "source": [
    "print('')"
   ]
  },
  {
   "cell_type": "code",
   "execution_count": 10,
   "id": "32565d35",
   "metadata": {},
   "outputs": [
    {
     "name": "stdout",
     "output_type": "stream",
     "text": [
      "This string contains a single quote (') character.\n",
      "This string contains a single quote (\") character.\n"
     ]
    }
   ],
   "source": [
    "print(\"This string contains a single quote (') character.\")\n",
    "print ('This string contains a single quote (\") character.')"
   ]
  },
  {
   "cell_type": "markdown",
   "id": "57caef67",
   "metadata": {},
   "source": [
    "# Boolean Type, Boolean Context, and \"Truthiness\""
   ]
  },
  {
   "cell_type": "code",
   "execution_count": 11,
   "id": "aac88220",
   "metadata": {},
   "outputs": [
    {
     "name": "stdout",
     "output_type": "stream",
     "text": [
      "<class 'bool'>\n",
      "<class 'bool'>\n"
     ]
    }
   ],
   "source": [
    "print(type(True))\n",
    "print(type(False))"
   ]
  },
  {
   "cell_type": "code",
   "execution_count": 12,
   "id": "c924754c",
   "metadata": {},
   "outputs": [],
   "source": [
    "n = 300"
   ]
  },
  {
   "cell_type": "code",
   "execution_count": 13,
   "id": "b35e90fc",
   "metadata": {},
   "outputs": [
    {
     "name": "stdout",
     "output_type": "stream",
     "text": [
      "300\n"
     ]
    }
   ],
   "source": [
    "print(n)"
   ]
  },
  {
   "cell_type": "code",
   "execution_count": 14,
   "id": "3238adb7",
   "metadata": {},
   "outputs": [
    {
     "data": {
      "text/plain": [
       "300"
      ]
     },
     "execution_count": 14,
     "metadata": {},
     "output_type": "execute_result"
    }
   ],
   "source": [
    "n"
   ]
  },
  {
   "cell_type": "code",
   "execution_count": 15,
   "id": "30db322b",
   "metadata": {},
   "outputs": [
    {
     "name": "stdout",
     "output_type": "stream",
     "text": [
      "1000\n"
     ]
    },
    {
     "data": {
      "text/plain": [
       "1000"
      ]
     },
     "execution_count": 15,
     "metadata": {},
     "output_type": "execute_result"
    }
   ],
   "source": [
    "n = 1000\n",
    "print(n)\n",
    "\n",
    "n"
   ]
  },
  {
   "cell_type": "code",
   "execution_count": 16,
   "id": "574263b6",
   "metadata": {},
   "outputs": [
    {
     "name": "stdout",
     "output_type": "stream",
     "text": [
      "300 300 300\n"
     ]
    }
   ],
   "source": [
    "a = b = c = 300\n",
    "print(a, b, c)"
   ]
  },
  {
   "cell_type": "markdown",
   "id": "534c75be",
   "metadata": {},
   "source": [
    "# Variable Type in Python"
   ]
  },
  {
   "cell_type": "code",
   "execution_count": 17,
   "id": "1dc1798e",
   "metadata": {},
   "outputs": [
    {
     "name": "stdout",
     "output_type": "stream",
     "text": [
      "23.5\n",
      "Now I'm a string\n"
     ]
    }
   ],
   "source": [
    "var = 23.5\n",
    "print(var)\n",
    "\n",
    "var = \"Now I'm a string\"\n",
    "print(var)"
   ]
  },
  {
   "cell_type": "markdown",
   "id": "643a621d",
   "metadata": {},
   "source": [
    "# Variable Names"
   ]
  },
  {
   "cell_type": "code",
   "execution_count": 18,
   "id": "ec427637",
   "metadata": {},
   "outputs": [
    {
     "name": "stdout",
     "output_type": "stream",
     "text": [
      "Hacktiv8 54 True\n"
     ]
    }
   ],
   "source": [
    "name = \"Hacktiv8\"\n",
    "Age = 54\n",
    "has_laptops = True\n",
    "print(name, Age, has_laptops)"
   ]
  },
  {
   "cell_type": "code",
   "execution_count": 19,
   "id": "e8c39b3f",
   "metadata": {},
   "outputs": [
    {
     "ename": "SyntaxError",
     "evalue": "invalid decimal literal (687628429.py, line 1)",
     "output_type": "error",
     "traceback": [
      "\u001b[1;36m  Input \u001b[1;32mIn [19]\u001b[1;36m\u001b[0m\n\u001b[1;33m    9_kepala_naga = True\u001b[0m\n\u001b[1;37m     ^\u001b[0m\n\u001b[1;31mSyntaxError\u001b[0m\u001b[1;31m:\u001b[0m invalid decimal literal\n"
     ]
    }
   ],
   "source": [
    "9_kepala_naga = True"
   ]
  },
  {
   "cell_type": "markdown",
   "id": "0f51ad4e",
   "metadata": {},
   "source": [
    "nama variabel tidak boleh dimulai dengan angka"
   ]
  },
  {
   "cell_type": "code",
   "execution_count": 20,
   "id": "2bfaba56",
   "metadata": {},
   "outputs": [
    {
     "name": "stdout",
     "output_type": "stream",
     "text": [
      "1 2 3 4 5 6 7 8\n"
     ]
    }
   ],
   "source": [
    "age = 1\n",
    "Age = 2\n",
    "aGe = 3\n",
    "AGE = 4\n",
    "a_g_e = 5\n",
    "_age = 6\n",
    "age_ = 7\n",
    "_AGE_ = 8\n",
    "\n",
    "print(age, Age, aGe, AGE, a_g_e, _age, age_, _AGE_)"
   ]
  },
  {
   "cell_type": "markdown",
   "id": "76401ccf",
   "metadata": {},
   "source": [
    "# Operators and Expressions in Python"
   ]
  },
  {
   "cell_type": "code",
   "execution_count": 21,
   "id": "c6b560f4",
   "metadata": {},
   "outputs": [
    {
     "data": {
      "text/plain": [
       "30"
      ]
     },
     "execution_count": 21,
     "metadata": {},
     "output_type": "execute_result"
    }
   ],
   "source": [
    "a = 10\n",
    "b = 20\n",
    "a + b "
   ]
  },
  {
   "cell_type": "code",
   "execution_count": 24,
   "id": "ce51d2af",
   "metadata": {},
   "outputs": [
    {
     "data": {
      "text/plain": [
       "25"
      ]
     },
     "execution_count": 24,
     "metadata": {},
     "output_type": "execute_result"
    }
   ],
   "source": [
    "a = 10\n",
    "b = 20\n",
    "a + b - 5"
   ]
  },
  {
   "cell_type": "markdown",
   "id": "94507d75",
   "metadata": {},
   "source": [
    "# Arithmetic Operators"
   ]
  },
  {
   "cell_type": "code",
   "execution_count": 26,
   "id": "582ee6dd",
   "metadata": {},
   "outputs": [
    {
     "name": "stdout",
     "output_type": "stream",
     "text": [
      "7\n",
      "1\n",
      "12\n",
      "1.3333333333333333\n",
      "1\n",
      "64\n"
     ]
    }
   ],
   "source": [
    "a = 4\n",
    "b = 3\n",
    "\n",
    "print(a + b)\n",
    "print(a - b)\n",
    "print(a * b)\n",
    "print(a / b)\n",
    "print(a % b)\n",
    "print(a ** b)"
   ]
  },
  {
   "cell_type": "code",
   "execution_count": 27,
   "id": "f1061e3b",
   "metadata": {},
   "outputs": [
    {
     "data": {
      "text/plain": [
       "2.0"
      ]
     },
     "execution_count": 27,
     "metadata": {},
     "output_type": "execute_result"
    }
   ],
   "source": [
    "10 / 5"
   ]
  },
  {
   "cell_type": "markdown",
   "id": "68b5a211",
   "metadata": {},
   "source": [
    "# Comparison Operators"
   ]
  },
  {
   "cell_type": "code",
   "execution_count": 28,
   "id": "cbd80ada",
   "metadata": {},
   "outputs": [
    {
     "name": "stdout",
     "output_type": "stream",
     "text": [
      "False\n",
      "True\n",
      "True\n",
      "False\n",
      "True\n",
      "True\n",
      "True\n"
     ]
    }
   ],
   "source": [
    "a = 10\n",
    "b = 20\n",
    "print(a == b)\n",
    "\n",
    "print(a != b)\n",
    "\n",
    "print(a <= b)\n",
    "\n",
    "print(a >= b)\n",
    "\n",
    "a = 30\n",
    "b = 30\n",
    "print(a == b)\n",
    "\n",
    "print(a <= b)\n",
    "\n",
    "print(a >= b)"
   ]
  },
  {
   "cell_type": "markdown",
   "id": "1fd38985",
   "metadata": {},
   "source": [
    "# String Manipulation"
   ]
  },
  {
   "cell_type": "code",
   "execution_count": 29,
   "id": "91558961",
   "metadata": {},
   "outputs": [
    {
     "name": "stdout",
     "output_type": "stream",
     "text": [
      "foobar\n",
      "foobarbaz\n",
      "Hacktiv8PTP\n"
     ]
    }
   ],
   "source": [
    "s = 'foo'\n",
    "t = 'bar'\n",
    "u = 'baz'\n",
    "\n",
    "print(s + t)\n",
    "\n",
    "print(s + t + u)\n",
    "\n",
    "\n",
    "print('Hacktiv8' + 'PTP')"
   ]
  },
  {
   "cell_type": "code",
   "execution_count": 30,
   "id": "23768657",
   "metadata": {},
   "outputs": [
    {
     "data": {
      "text/plain": [
       "'foo.foo.foo.foo.'"
      ]
     },
     "execution_count": 30,
     "metadata": {},
     "output_type": "execute_result"
    }
   ],
   "source": [
    "s = 'foo.'\n",
    "s * 4"
   ]
  },
  {
   "cell_type": "code",
   "execution_count": 31,
   "id": "94b3b99d",
   "metadata": {},
   "outputs": [
    {
     "name": "stdout",
     "output_type": "stream",
     "text": [
      "True\n",
      "False\n"
     ]
    }
   ],
   "source": [
    "s = 'foo'\n",
    "\n",
    "print(s in 'That food for us')\n",
    "\n",
    "print(s in 'That good for us')"
   ]
  },
  {
   "cell_type": "code",
   "execution_count": 32,
   "id": "549886af",
   "metadata": {},
   "outputs": [
    {
     "name": "stdout",
     "output_type": "stream",
     "text": [
      "Hacktiv8\n",
      "hacktiv8\n",
      "hACKtiv8\n",
      "Hacktiv8\n",
      "HACKTIV8\n"
     ]
    }
   ],
   "source": [
    "s = 'HackTIV8'\n",
    "\n",
    "print(s.capitalize())\n",
    "\n",
    "print(s.lower())\n",
    "\n",
    "print(s.swapcase())\n",
    "\n",
    "print(s.title())\n",
    "\n",
    "print(s.upper())"
   ]
  },
  {
   "cell_type": "code",
   "execution_count": 33,
   "id": "5763dbba",
   "metadata": {},
   "outputs": [
    {
     "name": "stdout",
     "output_type": "stream",
     "text": [
      "['foo', 'bar', 'baz', 'qux']\n"
     ]
    }
   ],
   "source": [
    "a=['foo', 'bar', 'baz', 'qux']\n",
    "\n",
    "print(a)"
   ]
  },
  {
   "cell_type": "markdown",
   "id": "ca811ae6",
   "metadata": {},
   "source": [
    "# List Can Contain Arbitrary Objects"
   ]
  },
  {
   "cell_type": "code",
   "execution_count": 34,
   "id": "86fe9e60",
   "metadata": {},
   "outputs": [
    {
     "name": "stdout",
     "output_type": "stream",
     "text": [
      "[21.42, 'foobar', 3, 4, 'bark', False, 3.14159]\n"
     ]
    }
   ],
   "source": [
    "a=[21.42, 'foobar', 3, 4, 'bark', False, 3.14159]\n",
    "\n",
    "print(a)"
   ]
  },
  {
   "cell_type": "markdown",
   "id": "724faf46",
   "metadata": {},
   "source": [
    "# List Elements Can Be Accessed by Index"
   ]
  },
  {
   "cell_type": "code",
   "execution_count": 35,
   "id": "44724f1d",
   "metadata": {},
   "outputs": [],
   "source": [
    "a=['foo', 'bar', 'baz', 'qux', 'quux', 'corge']"
   ]
  },
  {
   "cell_type": "code",
   "execution_count": 36,
   "id": "4f7ebd47",
   "metadata": {},
   "outputs": [
    {
     "name": "stdout",
     "output_type": "stream",
     "text": [
      "foo\n",
      "corge\n"
     ]
    }
   ],
   "source": [
    "print(a[0])\n",
    "print(a[5])"
   ]
  },
  {
   "cell_type": "code",
   "execution_count": 37,
   "id": "1d2384c3",
   "metadata": {},
   "outputs": [
    {
     "name": "stdout",
     "output_type": "stream",
     "text": [
      "corge\n",
      "foo\n"
     ]
    }
   ],
   "source": [
    "print(a[-1])\n",
    "print(a[-6])"
   ]
  },
  {
   "cell_type": "code",
   "execution_count": 38,
   "id": "0ee39313",
   "metadata": {},
   "outputs": [
    {
     "data": {
      "text/plain": [
       "['baz', 'qux', 'quux']"
      ]
     },
     "execution_count": 38,
     "metadata": {},
     "output_type": "execute_result"
    }
   ],
   "source": [
    "a=['foo', 'bar', 'baz', 'qux', 'quux', 'corge']\n",
    "\n",
    "a[2:5]"
   ]
  },
  {
   "cell_type": "code",
   "execution_count": 39,
   "id": "eb0fe546",
   "metadata": {},
   "outputs": [
    {
     "name": "stdout",
     "output_type": "stream",
     "text": [
      "['foo', 'bar', 'baz', 'qux', 'quux', 'corge']\n",
      "['foo', 'bar', 'baz', 'qux', 'quux', 'corge', 'grault', 'garply']\n",
      "['foo', 'bar', 'baz', 'qux', 'quux', 'corge', 'foo', 'bar', 'baz', 'qux', 'quux', 'corge']\n"
     ]
    }
   ],
   "source": [
    "print(a)\n",
    "\n",
    "print(a+['grault', 'garply'])\n",
    "print(a*2)"
   ]
  },
  {
   "cell_type": "code",
   "execution_count": 40,
   "id": "55570680",
   "metadata": {},
   "outputs": [
    {
     "name": "stdout",
     "output_type": "stream",
     "text": [
      "['foo', 'bar', 'baz', 'qux', 'quux', 'corge']\n",
      "6\n",
      "bar\n",
      "qux\n"
     ]
    }
   ],
   "source": [
    "print(a)\n",
    "\n",
    "print(len(a))\n",
    "print(min(a))\n",
    "print(max(a))"
   ]
  },
  {
   "cell_type": "markdown",
   "id": "42fed51a",
   "metadata": {},
   "source": [
    "# Modifying a Single List Value "
   ]
  },
  {
   "cell_type": "code",
   "execution_count": 41,
   "id": "7ee0cb0a",
   "metadata": {},
   "outputs": [
    {
     "name": "stdout",
     "output_type": "stream",
     "text": [
      "['foo', 'bar', 'baz', 'qux', 'quux', 'corge']\n",
      "['foo', 'bar', 10, 'qux', 'quux', 20]\n"
     ]
    }
   ],
   "source": [
    "a=['foo', 'bar', 'baz', 'qux', 'quux', 'corge']\n",
    "\n",
    "print(a)\n",
    "\n",
    "a[2]=10\n",
    "a[-1]=20\n",
    "\n",
    "print(a)"
   ]
  },
  {
   "cell_type": "code",
   "execution_count": 42,
   "id": "3e2e92b6",
   "metadata": {},
   "outputs": [],
   "source": [
    "del a[3]"
   ]
  },
  {
   "cell_type": "code",
   "execution_count": 43,
   "id": "6096c35f",
   "metadata": {},
   "outputs": [
    {
     "name": "stdout",
     "output_type": "stream",
     "text": [
      "['foo', 'bar', 10, 'quux', 20]\n"
     ]
    }
   ],
   "source": [
    "print(a)"
   ]
  },
  {
   "cell_type": "markdown",
   "id": "81508a05",
   "metadata": {},
   "source": [
    "# Modifying Multiple List Value "
   ]
  },
  {
   "cell_type": "code",
   "execution_count": 44,
   "id": "6e368298",
   "metadata": {},
   "outputs": [
    {
     "name": "stdout",
     "output_type": "stream",
     "text": [
      "['bar', 'baz', 'qux']\n",
      "['foo', 1.1, 2.2, 3.3, 4.4, 5.5, 'quux', 'corge']\n"
     ]
    }
   ],
   "source": [
    "a=['foo', 'bar', 'baz', 'qux', 'quux', 'corge']\n",
    "\n",
    "print(a[1:4])\n",
    "\n",
    "a[1:4]=[1.1, 2.2, 3.3, 4.4, 5.5]\n",
    "\n",
    "print(a)"
   ]
  },
  {
   "cell_type": "markdown",
   "id": "62b61300",
   "metadata": {},
   "source": [
    "# Defining and Using Tuples "
   ]
  },
  {
   "cell_type": "code",
   "execution_count": 45,
   "id": "65830537",
   "metadata": {},
   "outputs": [
    {
     "name": "stdout",
     "output_type": "stream",
     "text": [
      "['foo', 'bar', 'baz', 'qux', 'quux', 'corge']\n"
     ]
    }
   ],
   "source": [
    "t=['foo', 'bar', 'baz', 'qux', 'quux', 'corge']\n",
    "\n",
    "print(t)"
   ]
  },
  {
   "cell_type": "code",
   "execution_count": 46,
   "id": "63ec9de4",
   "metadata": {},
   "outputs": [
    {
     "name": "stdout",
     "output_type": "stream",
     "text": [
      "foo\n",
      "corge\n"
     ]
    }
   ],
   "source": [
    "print(t[0])\n",
    "\n",
    "print(t[-1])"
   ]
  },
  {
   "cell_type": "code",
   "execution_count": 47,
   "id": "3ee22c69",
   "metadata": {},
   "outputs": [
    {
     "data": {
      "text/plain": [
       "'foo'"
      ]
     },
     "execution_count": 47,
     "metadata": {},
     "output_type": "execute_result"
    }
   ],
   "source": [
    "(s1, s2, s3, s4)=('foo', 'bar', 'baz', 'qux')\n",
    "\n",
    "s1"
   ]
  },
  {
   "cell_type": "markdown",
   "id": "ecbac73d",
   "metadata": {},
   "source": [
    "# Defining a Dictionary "
   ]
  },
  {
   "cell_type": "code",
   "execution_count": 48,
   "id": "886f0eb0",
   "metadata": {},
   "outputs": [],
   "source": [
    "MLB_team={\n",
    "    'Colorado':'Rockies',\n",
    "    'Boston':'Red Sox',\n",
    "    'Minnesota':'Twins',\n",
    "    'Milwaukee':'Brewers',\n",
    "    'Seattle':'Mariners',\n",
    "}"
   ]
  },
  {
   "cell_type": "markdown",
   "id": "c2e53308",
   "metadata": {},
   "source": [
    "# Accessing Dictionary  "
   ]
  },
  {
   "cell_type": "code",
   "execution_count": 49,
   "id": "0bf4918c",
   "metadata": {},
   "outputs": [
    {
     "name": "stdout",
     "output_type": "stream",
     "text": [
      "Twins\n",
      "Rockies\n"
     ]
    }
   ],
   "source": [
    "print (MLB_team['Minnesota'])\n",
    "print (MLB_team['Colorado'])"
   ]
  },
  {
   "cell_type": "code",
   "execution_count": 50,
   "id": "f41d9d8b",
   "metadata": {},
   "outputs": [
    {
     "data": {
      "text/plain": [
       "{'Colorado': 'Rockies',\n",
       " 'Boston': 'Red Sox',\n",
       " 'Minnesota': 'Twins',\n",
       " 'Milwaukee': 'Brewers',\n",
       " 'Seattle': 'Mariners',\n",
       " 'Kansas City': 'Royals'}"
      ]
     },
     "execution_count": 50,
     "metadata": {},
     "output_type": "execute_result"
    }
   ],
   "source": [
    "MLB_team['Kansas City']='Royals'\n",
    "MLB_team"
   ]
  },
  {
   "cell_type": "code",
   "execution_count": 51,
   "id": "f404483e",
   "metadata": {},
   "outputs": [
    {
     "data": {
      "text/plain": [
       "{'Colorado': 'Rockies',\n",
       " 'Boston': 'Red Sox',\n",
       " 'Minnesota': 'Twins',\n",
       " 'Milwaukee': 'Brewers',\n",
       " 'Seattle': 'Seahawks',\n",
       " 'Kansas City': 'Royals'}"
      ]
     },
     "execution_count": 51,
     "metadata": {},
     "output_type": "execute_result"
    }
   ],
   "source": [
    "MLB_team['Seattle']='Seahawks'\n",
    "MLB_team"
   ]
  },
  {
   "cell_type": "code",
   "execution_count": 52,
   "id": "c375326f",
   "metadata": {},
   "outputs": [
    {
     "data": {
      "text/plain": [
       "{'Colorado': 'Rockies',\n",
       " 'Boston': 'Red Sox',\n",
       " 'Minnesota': 'Twins',\n",
       " 'Milwaukee': 'Brewers',\n",
       " 'Kansas City': 'Royals'}"
      ]
     },
     "execution_count": 52,
     "metadata": {},
     "output_type": "execute_result"
    }
   ],
   "source": [
    "del MLB_team['Seattle']\n",
    "MLB_team"
   ]
  },
  {
   "cell_type": "markdown",
   "id": "02602192",
   "metadata": {},
   "source": [
    "# Building a Dictionary Incrementally "
   ]
  },
  {
   "cell_type": "code",
   "execution_count": 53,
   "id": "97690e4f",
   "metadata": {},
   "outputs": [],
   "source": [
    "person={}\n",
    "type(person)\n",
    "\n",
    "person['fname']='Hack'\n",
    "person['lname']='PTP'\n",
    "person['age']=51\n",
    "person['spouse']='Edna'\n",
    "person['children']=['Ralph', 'Betty', 'Joey']\n",
    "person['pets']={'dog':'Fido', 'cat':'Sox'}"
   ]
  },
  {
   "cell_type": "code",
   "execution_count": 54,
   "id": "99fb9e2c",
   "metadata": {},
   "outputs": [
    {
     "data": {
      "text/plain": [
       "{'fname': 'Hack',\n",
       " 'lname': 'PTP',\n",
       " 'age': 51,\n",
       " 'spouse': 'Edna',\n",
       " 'children': ['Ralph', 'Betty', 'Joey'],\n",
       " 'pets': {'dog': 'Fido', 'cat': 'Sox'}}"
      ]
     },
     "execution_count": 54,
     "metadata": {},
     "output_type": "execute_result"
    }
   ],
   "source": [
    "person"
   ]
  },
  {
   "cell_type": "code",
   "execution_count": 55,
   "id": "9738f75b",
   "metadata": {},
   "outputs": [
    {
     "name": "stdout",
     "output_type": "stream",
     "text": [
      "Hack\n",
      "PTP\n"
     ]
    }
   ],
   "source": [
    "print(person['fname'])\n",
    "print(person['lname'])"
   ]
  },
  {
   "cell_type": "code",
   "execution_count": 56,
   "id": "3bddd0eb",
   "metadata": {},
   "outputs": [
    {
     "name": "stdout",
     "output_type": "stream",
     "text": [
      "['Ralph', 'Betty', 'Joey']\n",
      "Betty\n"
     ]
    }
   ],
   "source": [
    "print(person['children'])\n",
    "print(person['children'][1])"
   ]
  },
  {
   "cell_type": "code",
   "execution_count": 57,
   "id": "957e3552",
   "metadata": {},
   "outputs": [
    {
     "name": "stdout",
     "output_type": "stream",
     "text": [
      "{'dog': 'Fido', 'cat': 'Sox'}\n",
      "Sox\n"
     ]
    }
   ],
   "source": [
    "print(person['pets'])\n",
    "print(person['pets']['cat'])"
   ]
  },
  {
   "cell_type": "code",
   "execution_count": 58,
   "id": "685efb73",
   "metadata": {},
   "outputs": [
    {
     "name": "stdout",
     "output_type": "stream",
     "text": [
      "dict_items([('a', 10), ('b', 20), ('c', 30)])\n",
      "dict_keys(['a', 'b', 'c'])\n",
      "dict_values([10, 20, 30])\n"
     ]
    }
   ],
   "source": [
    "d={'a':10, 'b':20, 'c':30}\n",
    "\n",
    "print(d.items())\n",
    "\n",
    "print(d.keys())\n",
    "\n",
    "print(d.values())"
   ]
  },
  {
   "cell_type": "markdown",
   "id": "5580c253",
   "metadata": {},
   "source": [
    "# Line Continuation"
   ]
  },
  {
   "cell_type": "code",
   "execution_count": 59,
   "id": "fbf6e8fc",
   "metadata": {},
   "outputs": [
    {
     "data": {
      "text/plain": [
       "True"
      ]
     },
     "execution_count": 59,
     "metadata": {},
     "output_type": "execute_result"
    }
   ],
   "source": [
    "person1_age=42\n",
    "person2_age=16\n",
    "person3_age=71\n",
    "\n",
    "someone_is_of_working_age= (person1_age >= 18 and person1_age <= 65) or (person2_age >= 18 and person2_age <= 65) or (person3_age >= 18 and person3_age <= 65)\n",
    "someone_is_of_working_age"
   ]
  },
  {
   "cell_type": "code",
   "execution_count": 60,
   "id": "f5e000ec",
   "metadata": {},
   "outputs": [
    {
     "data": {
      "text/plain": [
       "True"
      ]
     },
     "execution_count": 60,
     "metadata": {},
     "output_type": "execute_result"
    }
   ],
   "source": [
    "someone_is_of_working_age= (\n",
    "    (person1_age >= 18 and person1_age <= 65) \n",
    "    or (person2_age >= 18 and person2_age <= 65) \n",
    "    or (person3_age >= 18 and person3_age <= 65)\n",
    ")\n",
    "someone_is_of_working_age"
   ]
  },
  {
   "cell_type": "code",
   "execution_count": null,
   "id": "f3bf6b23",
   "metadata": {},
   "outputs": [],
   "source": []
  },
  {
   "cell_type": "code",
   "execution_count": null,
   "id": "76ffc3c3",
   "metadata": {},
   "outputs": [],
   "source": []
  }
 ],
 "metadata": {
  "kernelspec": {
   "display_name": "Python 3 (ipykernel)",
   "language": "python",
   "name": "python3"
  },
  "language_info": {
   "codemirror_mode": {
    "name": "ipython",
    "version": 3
   },
   "file_extension": ".py",
   "mimetype": "text/x-python",
   "name": "python",
   "nbconvert_exporter": "python",
   "pygments_lexer": "ipython3",
   "version": "3.9.12"
  }
 },
 "nbformat": 4,
 "nbformat_minor": 5
}
